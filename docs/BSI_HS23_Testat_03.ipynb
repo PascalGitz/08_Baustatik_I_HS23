{
 "cells": [
  {
   "cell_type": "raw",
   "metadata": {},
   "source": [
    "---\n",
    "title: \"Testat_3\"\n",
    "---"
   ]
  },
  {
   "cell_type": "code",
   "execution_count": 1,
   "metadata": {},
   "outputs": [],
   "source": [
    "%run \"../src/utils/notebook_style.ipynb\""
   ]
  },
  {
   "cell_type": "markdown",
   "metadata": {},
   "source": [
    "# Testat 3 - Aufgabenstellung\n",
    "## Stringer-Tafelmodell und Querschnittswerte\n",
    "\n",
    "In Anlehnung an das Testat 1 wird ein Stringer-Tafelmodell aus dem einfachen Balken gebildet. Die Streckenlast ist zu einer Punktlast vereinfacht worden. Die Einwirkungen sind auf charakteristischem Niveau [^1]. \n",
    "\n",
    "[^1]: Charakteristisch bedeutet frei von Sicherheitsbeiwerten. Für diese Testatübung ist dies nicht relevant. \n",
    "\n",
    "![Ein einfacher Balken und Stringer- Tafelmodell mit Punktlasten](../images/Testat_03_HS23.svg){#fig-system}\n",
    "\n",
    "Gesucht:\n",
    "\n",
    "- Beschreiben Sie die statische Bestimmtheit des Stringer-Tafelmodells\n",
    "- Bestimmen Sie die Lagerkraftgrössen und kontrollieren Sie diese\n",
    "- Zeichnen Sie die Zustandslinien der Normalkräfte in den Stringern und die Schubflüsse in den Tafeln\n",
    "\n",
    "{{< pagebreak >}}\n",
    "\n",
    "Unabhängig des Stringertafelmodells gilt es den Querschnitt in @fig-qs zu untersuchen:\n",
    "\n",
    "![Ein unsymmetrischer Querschnitt](../images/Testat_03_HS23_QS.svg){#fig-qs}\n",
    "\n",
    "Gesucht:\n",
    "\n",
    "- Bestimmen Sie den geometrischen Schwerpunkt\n",
    "- Bestimmen Sie die Hauptwerte der Flächenträgheitsmomente sowie den Richtungswinkel"
   ]
  },
  {
   "cell_type": "markdown",
   "metadata": {},
   "source": [
    "{{< pagebreak >}}\n",
    "\n",
    "# Testat 3 - Musterlösung\n",
    "\n",
    "\n",
    "\n",
    "## Voraussetzungen\n",
    "\n",
    "Folgende Annahmen gelten für ein ideales Stringer-Tafelmodell wie in @Heinzmann2019 definiert:\n",
    "\n",
    "- die einzelnen Stringer des Stringer-Tafelmodells sind geradlinig\n",
    "- die Stringer schneiden sich zentrisch in den Knotenpunkten\n",
    "- die Knoten bilden reibungsfreie Gelenke\n",
    "- die Belastung ist entweder als Einzelkräfte $Q$ in den Knoten oder verteilten Streckenlasten $q$ entlang der Stringerlängsrichtung möglich\n"
   ]
  },
  {
   "cell_type": "markdown",
   "metadata": {},
   "source": [
    "## Statische Bestimmtheit\n",
    "\n",
    "Mittels Abzählkriterium nach @Heinzmann2019 kann die statische Bestimmtheit ermittelt werden. Wichtig dabei ist, dass das Abzählkriterium eine notwendige, aber nicht hinreichende Bedingung darstellt. Zusätzlich ist die kinematische Unverschieblichkeit zu prüfen.\n"
   ]
  },
  {
   "cell_type": "code",
   "execution_count": 2,
   "metadata": {},
   "outputs": [
    {
     "data": {
      "text/latex": [
       "\\begin{equation}n = c - 2 k + s\\end{equation}"
      ],
      "text/plain": [
       "Equation(n, c - 2*k + s)"
      ]
     },
     "metadata": {},
     "output_type": "display_data"
    }
   ],
   "source": [
    "eq_n = Eqn(n, s + c - 2*k)\n",
    "\n",
    "display(eq_n)"
   ]
  },
  {
   "cell_type": "markdown",
   "metadata": {},
   "source": [
    "Dabei sind $s$ Stringer und Tafeln vorhanden:"
   ]
  },
  {
   "cell_type": "code",
   "execution_count": 3,
   "metadata": {},
   "outputs": [
    {
     "data": {
      "text/latex": [
       "\\begin{equation}s = 17\\end{equation}"
      ],
      "text/plain": [
       "Equation(s, 17)"
      ]
     },
     "execution_count": 3,
     "metadata": {},
     "output_type": "execute_result"
    }
   ],
   "source": [
    "eq_s = Eqn(s, 13+4)\n",
    "eq_s"
   ]
  },
  {
   "cell_type": "markdown",
   "metadata": {},
   "source": [
    "und $k$ Knoten:"
   ]
  },
  {
   "cell_type": "code",
   "execution_count": 4,
   "metadata": {},
   "outputs": [
    {
     "data": {
      "text/latex": [
       "\\begin{equation}k = 10\\end{equation}"
      ],
      "text/plain": [
       "Equation(k, 10)"
      ]
     },
     "execution_count": 4,
     "metadata": {},
     "output_type": "execute_result"
    }
   ],
   "source": [
    "eq_k = Eqn(k, 10)\n",
    "eq_k"
   ]
  },
  {
   "cell_type": "markdown",
   "metadata": {},
   "source": [
    "sowie $c$ Lagerkraftgrössen:"
   ]
  },
  {
   "cell_type": "code",
   "execution_count": 5,
   "metadata": {},
   "outputs": [
    {
     "data": {
      "text/latex": [
       "\\begin{equation}c = 3\\end{equation}"
      ],
      "text/plain": [
       "Equation(c, 3)"
      ]
     },
     "execution_count": 5,
     "metadata": {},
     "output_type": "execute_result"
    }
   ],
   "source": [
    "eq_c = Eqn(c, 3)\n",
    "eq_c"
   ]
  },
  {
   "cell_type": "markdown",
   "metadata": {},
   "source": [
    "Das Abzählkriterium ist eingehalten. Zudem ist das Stringer-Tafelmodell kinematisch unverschieblich."
   ]
  },
  {
   "cell_type": "code",
   "execution_count": 6,
   "metadata": {},
   "outputs": [
    {
     "data": {
      "text/latex": [
       "\\begin{equation}n = 0\\end{equation}"
      ],
      "text/plain": [
       "Equation(n, 0)"
      ]
     },
     "execution_count": 6,
     "metadata": {},
     "output_type": "execute_result"
    }
   ],
   "source": [
    "eq_n.subs(eq_k, eq_c, eq_s)"
   ]
  },
  {
   "cell_type": "code",
   "execution_count": 7,
   "metadata": {},
   "outputs": [],
   "source": [
    "F_1, F_2, F_3,F_4, A_z, A_x, B_z = sp.symbols('F_1, F_2, F_3, F_4 A_z, A_x, B_z')"
   ]
  },
  {
   "cell_type": "code",
   "execution_count": 8,
   "metadata": {},
   "outputs": [],
   "source": [
    "params = {\n",
    "    F_1: 15.*10**3*unit.N,\n",
    "    F_2: 62.*10**3*unit.N,\n",
    "    F_3: 50.*10**3*unit.N,\n",
    "    F_4: 120.*10**3*unit.N\n",
    "}\n"
   ]
  },
  {
   "cell_type": "markdown",
   "metadata": {},
   "source": [
    "\n",
    "## Auflagerkräfte\n",
    "\n",
    "\n",
    "![Stringer-Tafelmodell mit Lagerkraftgrössen](../images/Testat_03_HS23_SKD.svg){#fig-system_skd}\n",
    "\n",
    "Zuerst wird $B_z$ ermittelt, dies kann durch Gleichgewicht der Momente um Punkt $A$ geschehen.\n",
    "\n",
    "$$\n",
    "\\sum_A^\\curvearrowleft M_y = 0\n",
    "$${#eq-ggw_M_A}"
   ]
  },
  {
   "cell_type": "code",
   "execution_count": 9,
   "metadata": {},
   "outputs": [
    {
     "data": {
      "text/latex": [
       "\\begin{equation}0 = B_{z} 10 \\text{m} - F_{1} \\cdot 1.5 \\text{m} + F_{2} \\cdot 3 \\text{m} - F_{4} \\cdot 7.4 \\text{m}\\end{equation}"
      ],
      "text/plain": [
       "Equation(0, B_z*(10*meter) - F_1*1.5*meter + F_2*(3*meter) - F_4*7.4*meter)"
      ]
     },
     "metadata": {},
     "output_type": "display_data"
    },
    {
     "data": {
      "text/latex": [
       "\\begin{equation}B_{z} = 0.15 F_{1} - 0.3 F_{2} + 0.74 F_{4}\\end{equation}"
      ],
      "text/plain": [
       "Equation(B_z, 0.15*F_1 - 0.3*F_2 + 0.74*F_4)"
      ]
     },
     "metadata": {},
     "output_type": "display_data"
    },
    {
     "data": {
      "text/latex": [
       "\\begin{equation}B_{z} = 72450.0 \\text{N}\\end{equation}"
      ],
      "text/plain": [
       "Equation(B_z, 72450.0*newton)"
      ]
     },
     "metadata": {},
     "output_type": "display_data"
    }
   ],
   "source": [
    "ggw_M_A = Eqn(0, B_z * sp.UnevaluatedExpr(10*unit.m) - F_4  * sp.UnevaluatedExpr((10-5.2/2)*unit.m) + F_2 * sp.UnevaluatedExpr(3*unit.m) - F_1 * sp.UnevaluatedExpr(1.5*unit.m))\n",
    "\n",
    "B_z_solve = Eqn(B_z, sp.solve(ggw_M_A.rhs, B_z)[0])\n",
    "B_z_num = B_z_solve.subs(params)\n",
    "\n",
    "display(ggw_M_A, B_z_solve,B_z_num )\n"
   ]
  },
  {
   "cell_type": "markdown",
   "metadata": {},
   "source": [
    "Anhand des Momentengleichgewichts um Punkt $B$ kann $A_z$ ermittelt werden.\n",
    "$$\n",
    "\\sum_B^\\curvearrowleft M_y = 0\n",
    "$${#eq-ggw_M_B}"
   ]
  },
  {
   "cell_type": "code",
   "execution_count": 10,
   "metadata": {},
   "outputs": [
    {
     "data": {
      "text/latex": [
       "\\begin{equation}0 = - A_{z} 10 \\text{m} + F_{1} \\cdot 8.5 \\text{m} - F_{2} \\cdot 7 \\text{m} + F_{4} \\cdot 2.6 \\text{m}\\end{equation}"
      ],
      "text/plain": [
       "Equation(0, -A_z*10*meter + F_1*(8.5*meter) - F_2*7*meter + F_4*(2.6*meter))"
      ]
     },
     "metadata": {},
     "output_type": "display_data"
    },
    {
     "data": {
      "text/latex": [
       "\\begin{equation}A_{z} = 0.85 F_{1} - 0.7 F_{2} + 0.26 F_{4}\\end{equation}"
      ],
      "text/plain": [
       "Equation(A_z, 0.85*F_1 - 0.7*F_2 + 0.26*F_4)"
      ]
     },
     "metadata": {},
     "output_type": "display_data"
    },
    {
     "data": {
      "text/latex": [
       "\\begin{equation}A_{z} = 550.0 \\text{N}\\end{equation}"
      ],
      "text/plain": [
       "Equation(A_z, 550.0*newton)"
      ]
     },
     "metadata": {},
     "output_type": "display_data"
    }
   ],
   "source": [
    "ggw_M_B = Eqn(0, -A_z * sp.UnevaluatedExpr(10*unit.m) + F_1 * sp.UnevaluatedExpr(8.5*unit.m) - F_2 * sp.UnevaluatedExpr(7*unit.m) + F_4 * sp.UnevaluatedExpr(2.6 *unit.m))\n",
    "\n",
    "A_z_solve = Eqn(A_z,sp.solve(ggw_M_B.rhs, A_z)[0])\n",
    "A_z_num = A_z_solve.subs(params).evalf(3)\n",
    "display(ggw_M_B, A_z_solve,A_z_num)"
   ]
  },
  {
   "cell_type": "markdown",
   "metadata": {},
   "source": [
    "Die horizontale Auflagerreaktion $A_x$ kann durch Gleichgewicht der horizontalen Kräfte ermittelt werden:\n",
    "\n",
    "$$\n",
    "\\sum^\\rightarrow F_x = 0\n",
    "$${#eq-sum_fx}"
   ]
  },
  {
   "cell_type": "code",
   "execution_count": 11,
   "metadata": {},
   "outputs": [
    {
     "data": {
      "text/latex": [
       "\\begin{equation}0 = A_{x} + F_{3}\\end{equation}"
      ],
      "text/plain": [
       "Equation(0, A_x + F_3)"
      ]
     },
     "metadata": {},
     "output_type": "display_data"
    },
    {
     "data": {
      "text/latex": [
       "\\begin{equation}A_{x} = - F_{3}\\end{equation}"
      ],
      "text/plain": [
       "Equation(A_x, -F_3)"
      ]
     },
     "metadata": {},
     "output_type": "display_data"
    },
    {
     "data": {
      "text/latex": [
       "\\begin{equation}A_{x} = - 50000.0 \\text{N}\\end{equation}"
      ],
      "text/plain": [
       "Equation(A_x, -50000.0*newton)"
      ]
     },
     "metadata": {},
     "output_type": "display_data"
    }
   ],
   "source": [
    "ggw_F_x = Eqn(0, F_3 + A_x)\n",
    "\n",
    "A_x_solve = Eqn(A_x,sp.solve(ggw_F_x.rhs, A_x)[0])\n",
    "A_x_num = A_x_solve.subs(params)\n",
    "display(ggw_F_x, A_x_solve, A_x_num)"
   ]
  },
  {
   "cell_type": "markdown",
   "metadata": {},
   "source": [
    "## Kontrolle der Lagerkraftgrössen\n",
    "\n",
    "Da beide Auflagerkräfte in $z$-Richtung mittels eines Momentengleichgewichts bestimmt worden sind, bleibt die Summe aller Kräfte in $z$-Richtung zur Kontrolle der Grössen.\n",
    "\n",
    "$$\n",
    "\\sum^\\uparrow F_z = 0\n",
    "$${#eq-ggw_fz}"
   ]
  },
  {
   "cell_type": "code",
   "execution_count": 12,
   "metadata": {},
   "outputs": [
    {
     "data": {
      "text/latex": [
       "\\begin{equation}0 = - A_{z} - B_{z} + F_{1} - F_{2} + F_{4}\\end{equation}"
      ],
      "text/plain": [
       "Equation(0, -A_z - B_z + F_1 - F_2 + F_4)"
      ]
     },
     "metadata": {},
     "output_type": "display_data"
    },
    {
     "data": {
      "text/latex": [
       "\\begin{equation}0 = 73000.0 \\text{N} - A_{z} - B_{z}\\end{equation}"
      ],
      "text/plain": [
       "Equation(0, 73000.0*newton - A_z - B_z)"
      ]
     },
     "metadata": {},
     "output_type": "display_data"
    },
    {
     "data": {
      "text/latex": [
       "\\begin{equation}0 = 0\\end{equation}"
      ],
      "text/plain": [
       "Equation(0, 0)"
      ]
     },
     "metadata": {},
     "output_type": "display_data"
    }
   ],
   "source": [
    "ggw_F_z = Eqn(0, -A_z - B_z + F_1 - F_2 + F_4)\n",
    "\n",
    "def genauigkeit(expr):\n",
    "    if expr <=0.01:\n",
    "        return 0\n",
    "    \n",
    "\n",
    "display(ggw_F_z, ggw_F_z.subs(params), ggw_F_z.subs(A_z_solve).subs(B_z_solve).subs(params).applyrhs(genauigkeit))"
   ]
  },
  {
   "cell_type": "markdown",
   "metadata": {},
   "source": [
    "## Zustandslinien der Schnittgrössen\n",
    "\n",
    "Anhand von Schnittkörperdiagrammen können die Normalkräfte, sowie die Schubflüsse bestimmt werden.\n",
    "\n",
    "#### Bereich 1\n",
    "\n",
    "Das Schnittkörperdiagramm schneidet unmittelbar links neben dem Knoten.\n",
    "\n",
    "![Schnittkörperdiagramm 1](../images/Testat_03_HS23_SKD4.svg){#fig-skd1}"
   ]
  },
  {
   "cell_type": "markdown",
   "metadata": {},
   "source": [
    "Durch Momentengleichgewicht um $k_{10}$:"
   ]
  },
  {
   "cell_type": "code",
   "execution_count": 13,
   "metadata": {},
   "outputs": [],
   "source": [
    "N_k3l, N_k10l, ST_1 = sp.symbols('N_k3l N_k10l ST_1')"
   ]
  },
  {
   "cell_type": "code",
   "execution_count": 14,
   "metadata": {},
   "outputs": [
    {
     "data": {
      "text/latex": [
       "\\begin{equation}0 = - A_{z} 1.5 \\text{m} - N_{k3l} 1.2 \\text{m}\\end{equation}"
      ],
      "text/plain": [
       "Equation(0, -A_z*1.5*meter - N_k3l*1.2*meter)"
      ]
     },
     "metadata": {},
     "output_type": "display_data"
    },
    {
     "data": {
      "text/latex": [
       "\\begin{equation}N_{k3l} = - 1.25 A_{z}\\end{equation}"
      ],
      "text/plain": [
       "Equation(N_k3l, -1.25*A_z)"
      ]
     },
     "metadata": {},
     "output_type": "display_data"
    },
    {
     "data": {
      "text/latex": [
       "\\begin{equation}N_{k3l} = - 687.5 \\text{N}\\end{equation}"
      ],
      "text/plain": [
       "Equation(N_k3l, -687.5*newton)"
      ]
     },
     "metadata": {},
     "output_type": "display_data"
    }
   ],
   "source": [
    "ggw_nk3l = Eqn(0, -N_k3l * sp.UnevaluatedExpr(1.2*unit.m) - A_z * sp.UnevaluatedExpr(1.5*unit.m))\n",
    "\n",
    "N_k3l_solve = Eqn(N_k3l,sp.solve(ggw_nk3l.rhs, N_k3l)[0])\n",
    "\n",
    "N_k3l_num = N_k3l_solve.subs(A_z_solve).subs(params)\n",
    "display(ggw_nk3l, N_k3l_solve, N_k3l_num)"
   ]
  },
  {
   "cell_type": "markdown",
   "metadata": {},
   "source": [
    "Durch horizontales Gleichgewicht:"
   ]
  },
  {
   "cell_type": "code",
   "execution_count": 15,
   "metadata": {},
   "outputs": [
    {
     "data": {
      "text/latex": [
       "\\begin{equation}0 = A_{x} + N_{k10l} + N_{k3l}\\end{equation}"
      ],
      "text/plain": [
       "Equation(0, A_x + N_k10l + N_k3l)"
      ]
     },
     "metadata": {},
     "output_type": "display_data"
    },
    {
     "data": {
      "text/latex": [
       "\\begin{equation}N_{k10l} = - A_{x} - N_{k3l}\\end{equation}"
      ],
      "text/plain": [
       "Equation(N_k10l, -A_x - N_k3l)"
      ]
     },
     "metadata": {},
     "output_type": "display_data"
    },
    {
     "data": {
      "text/latex": [
       "\\begin{equation}N_{k10l} = 50687.5 \\text{N}\\end{equation}"
      ],
      "text/plain": [
       "Equation(N_k10l, 50687.5*newton)"
      ]
     },
     "metadata": {},
     "output_type": "display_data"
    }
   ],
   "source": [
    "ggw_nk10l = Eqn(0, A_x + N_k10l + N_k3l)\n",
    "N_k10l_solve = Eqn(N_k10l,sp.solve(ggw_nk10l.rhs, N_k10l)[0])\n",
    "\n",
    "N_k10l_num = N_k10l_solve.subs(A_x_solve, N_k3l_solve).subs(A_z_solve).subs(params)\n",
    "display(ggw_nk10l, N_k10l_solve, N_k10l_num)"
   ]
  },
  {
   "cell_type": "markdown",
   "metadata": {},
   "source": [
    "Durch vertikales Gleichgewicht:"
   ]
  },
  {
   "cell_type": "code",
   "execution_count": 16,
   "metadata": {},
   "outputs": [
    {
     "data": {
      "text/latex": [
       "\\begin{equation}0 = - A_{z} + ST_{1} \\cdot 1.2 \\text{m}\\end{equation}"
      ],
      "text/plain": [
       "Equation(0, -A_z + ST_1*(1.2*meter))"
      ]
     },
     "metadata": {},
     "output_type": "display_data"
    },
    {
     "data": {
      "text/latex": [
       "\\begin{equation}ST_{1} = \\frac{0.83 A_{z}}{\\text{m}}\\end{equation}"
      ],
      "text/plain": [
       "Equation(ST_1, 0.83*A_z/meter)"
      ]
     },
     "metadata": {},
     "output_type": "display_data"
    },
    {
     "data": {
      "text/latex": [
       "\\begin{equation}ST_{1} = \\frac{458.33 \\text{N}}{\\text{m}}\\end{equation}"
      ],
      "text/plain": [
       "Equation(ST_1, 458.33*newton/meter)"
      ]
     },
     "metadata": {},
     "output_type": "display_data"
    }
   ],
   "source": [
    "ggw_ST1 = Eqn(0, -A_z + ST_1 * sp.UnevaluatedExpr(1.2*unit.m))\n",
    "ST1_solve = Eqn(ST_1, sp.solve(ggw_ST1.rhs, ST_1)[0])\n",
    "ST1_num = ST1_solve.subs(A_z_solve).subs(params).evalf(5)\n",
    "display(ggw_ST1, ST1_solve.evalf(2), ST1_num)"
   ]
  },
  {
   "cell_type": "markdown",
   "metadata": {},
   "source": [
    "#### Bereich 2\n",
    "\n",
    "Das Schnittkörperdiagramm schneidet unmittelbar links neben dem Knoten.\n",
    "\n",
    "![Schnittkörperdiagramm 2](../images/Testat_03_HS23_SKD3.svg){#fig-skd2}"
   ]
  },
  {
   "cell_type": "markdown",
   "metadata": {},
   "source": [
    "Durch Momentengleichgewicht um $k_{9}$:"
   ]
  },
  {
   "cell_type": "code",
   "execution_count": 17,
   "metadata": {},
   "outputs": [],
   "source": [
    "N_k4l, N_k9l, ST_2 = sp.symbols('N_k4l N_k9l ST_2')"
   ]
  },
  {
   "cell_type": "code",
   "execution_count": 18,
   "metadata": {},
   "outputs": [
    {
     "data": {
      "text/latex": [
       "\\begin{equation}0 = - A_{z} 3.0 \\text{m} + F_{1} \\cdot 1.5 \\text{m} - N_{k4l} 1.2 \\text{m}\\end{equation}"
      ],
      "text/plain": [
       "Equation(0, -A_z*3.0*meter + F_1*(1.5*meter) - N_k4l*1.2*meter)"
      ]
     },
     "metadata": {},
     "output_type": "display_data"
    },
    {
     "data": {
      "text/latex": [
       "\\begin{equation}N_{k4l} = - 2.5 A_{z} + 1.25 F_{1}\\end{equation}"
      ],
      "text/plain": [
       "Equation(N_k4l, -2.5*A_z + 1.25*F_1)"
      ]
     },
     "metadata": {},
     "output_type": "display_data"
    },
    {
     "data": {
      "text/latex": [
       "\\begin{equation}N_{k4l} = 17375.0 \\text{N}\\end{equation}"
      ],
      "text/plain": [
       "Equation(N_k4l, 17375.0*newton)"
      ]
     },
     "metadata": {},
     "output_type": "display_data"
    }
   ],
   "source": [
    "ggw_nk4l = Eqn(0, -N_k4l * sp.UnevaluatedExpr(1.2*unit.m) - A_z * sp.UnevaluatedExpr(3.*unit.m)+ F_1 * sp.UnevaluatedExpr(1.5*unit.m))\n",
    "\n",
    "N_k4l_solve = Eqn(N_k4l,sp.solve(ggw_nk4l.rhs, N_k4l)[0])\n",
    "N_k4l_num = N_k4l_solve.subs(A_z_solve).subs(params)\n",
    "\n",
    "display(ggw_nk4l, N_k4l_solve,N_k4l_num)"
   ]
  },
  {
   "cell_type": "markdown",
   "metadata": {},
   "source": [
    "Durch horizontales Gleichgewicht:"
   ]
  },
  {
   "cell_type": "code",
   "execution_count": 19,
   "metadata": {},
   "outputs": [
    {
     "data": {
      "text/latex": [
       "\\begin{equation}0 = A_{x} + N_{k4l} + N_{k9l}\\end{equation}"
      ],
      "text/plain": [
       "Equation(0, A_x + N_k4l + N_k9l)"
      ]
     },
     "metadata": {},
     "output_type": "display_data"
    },
    {
     "data": {
      "text/latex": [
       "\\begin{equation}N_{k9l} = - A_{x} - N_{k4l}\\end{equation}"
      ],
      "text/plain": [
       "Equation(N_k9l, -A_x - N_k4l)"
      ]
     },
     "metadata": {},
     "output_type": "display_data"
    },
    {
     "data": {
      "text/latex": [
       "\\begin{equation}N_{k9l} = 32625.0 \\text{N}\\end{equation}"
      ],
      "text/plain": [
       "Equation(N_k9l, 32625.0*newton)"
      ]
     },
     "metadata": {},
     "output_type": "display_data"
    }
   ],
   "source": [
    "ggw_nk9l = Eqn(0, A_x + N_k9l + N_k4l)\n",
    "N_k9l_solve = Eqn(N_k9l,sp.solve(ggw_nk9l.rhs, N_k9l)[0])\n",
    "N_k9l_num = N_k9l_solve.subs(A_x_solve, N_k4l_solve).subs(A_z_solve).subs(params)\n",
    "display(ggw_nk9l, N_k9l_solve, N_k9l_num)"
   ]
  },
  {
   "cell_type": "markdown",
   "metadata": {},
   "source": [
    "Durch vertikales Gleichgewicht:"
   ]
  },
  {
   "cell_type": "code",
   "execution_count": 20,
   "metadata": {},
   "outputs": [
    {
     "data": {
      "text/latex": [
       "\\begin{equation}0 = - A_{z} + F_{1} + ST_{2} \\cdot 1.2 \\text{m}\\end{equation}"
      ],
      "text/plain": [
       "Equation(0, -A_z + F_1 + ST_2*(1.2*meter))"
      ]
     },
     "metadata": {},
     "output_type": "display_data"
    },
    {
     "data": {
      "text/latex": [
       "\\begin{equation}ST_{2} = \\frac{0.83 \\left(A_{z} - F_{1}\\right)}{\\text{m}}\\end{equation}"
      ],
      "text/plain": [
       "Equation(ST_2, 0.83*(A_z - F_1)/meter)"
      ]
     },
     "metadata": {},
     "output_type": "display_data"
    },
    {
     "data": {
      "text/latex": [
       "\\begin{equation}ST_{2} = - \\frac{12042.0 \\text{N}}{\\text{m}}\\end{equation}"
      ],
      "text/plain": [
       "Equation(ST_2, -12042.0*newton/meter)"
      ]
     },
     "metadata": {},
     "output_type": "display_data"
    }
   ],
   "source": [
    "ggw_ST2 = Eqn(0, -A_z + F_1 + ST_2 * sp.UnevaluatedExpr(1.2*unit.m))\n",
    "ST2_solve = Eqn(ST_2, sp.solve(ggw_ST2.rhs, ST_2)[0])\n",
    "ST2_num = ST2_solve.subs(A_z_solve).subs(params).evalf(5)\n",
    "display(ggw_ST2, ST2_solve.evalf(2), ST2_num)"
   ]
  },
  {
   "cell_type": "markdown",
   "metadata": {},
   "source": [
    "#### Bereich 3\n",
    "\n",
    "Das Schnittkörperdiagramm schneidet unmittelbar links neben dem Knoten.\n",
    "\n",
    "![Schnittkörperdiagramm 3](../images/Testat_03_HS23_SKD2.svg){#fig-skd3}"
   ]
  },
  {
   "cell_type": "markdown",
   "metadata": {},
   "source": [
    "Durch Momentengleichgewicht um $k_{8}$:"
   ]
  },
  {
   "cell_type": "code",
   "execution_count": 21,
   "metadata": {},
   "outputs": [],
   "source": [
    "N_k5l, N_k8l, ST_3 = sp.symbols('N_k5l N_k8l ST_3')"
   ]
  },
  {
   "cell_type": "code",
   "execution_count": 22,
   "metadata": {},
   "outputs": [
    {
     "data": {
      "text/latex": [
       "\\begin{equation}0 = - A_{z} 7.4 \\text{m} + F_{1} \\cdot 5.9 \\text{m} - F_{2} \\cdot 4.4 \\text{m} - N_{k5l} 1.2 \\text{m}\\end{equation}"
      ],
      "text/plain": [
       "Equation(0, -A_z*7.4*meter + F_1*(5.9*meter) - F_2*4.4*meter - N_k5l*1.2*meter\n",
       ")"
      ]
     },
     "metadata": {},
     "output_type": "display_data"
    },
    {
     "data": {
      "text/latex": [
       "\\begin{equation}N_{k5l} = - 6.17 A_{z} + 4.92 F_{1} - 3.67 F_{2}\\end{equation}"
      ],
      "text/plain": [
       "Equation(N_k5l, -6.17*A_z + 4.92*F_1 - 3.67*F_2)"
      ]
     },
     "metadata": {},
     "output_type": "display_data"
    },
    {
     "data": {
      "text/latex": [
       "\\begin{equation}N_{k5l} = - 156975.0 \\text{N}\\end{equation}"
      ],
      "text/plain": [
       "Equation(N_k5l, -156975.0*newton)"
      ]
     },
     "metadata": {},
     "output_type": "display_data"
    }
   ],
   "source": [
    "ggw_nk5l = Eqn(0, -N_k5l * sp.UnevaluatedExpr(1.2*unit.m) - A_z * sp.UnevaluatedExpr(3.*unit.m + 4.4*unit.m)+ F_1 * sp.UnevaluatedExpr(1.5*unit.m+4.4*unit.m) - F_2 * sp.UnevaluatedExpr(4.4*unit.m))\n",
    "N_k5l_solve = Eqn(N_k5l,sp.solve(ggw_nk5l.rhs, N_k5l)[0])\n",
    "\n",
    "N_k5l_num = N_k5l_solve.subs(A_z_solve).subs(params).evalf(6)\n",
    "\n",
    "display(ggw_nk5l, N_k5l_solve.evalf(3), N_k5l_num)"
   ]
  },
  {
   "cell_type": "markdown",
   "metadata": {},
   "source": [
    "Durch horizontales Gleichgewicht:"
   ]
  },
  {
   "cell_type": "code",
   "execution_count": 23,
   "metadata": {},
   "outputs": [
    {
     "data": {
      "text/latex": [
       "\\begin{equation}0 = A_{x} + N_{k5l} + N_{k8l}\\end{equation}"
      ],
      "text/plain": [
       "Equation(0, A_x + N_k5l + N_k8l)"
      ]
     },
     "metadata": {},
     "output_type": "display_data"
    },
    {
     "data": {
      "text/latex": [
       "\\begin{equation}N_{k8l} = - A_{x} - N_{k5l}\\end{equation}"
      ],
      "text/plain": [
       "Equation(N_k8l, -A_x - N_k5l)"
      ]
     },
     "metadata": {},
     "output_type": "display_data"
    },
    {
     "data": {
      "text/latex": [
       "\\begin{equation}N_{k8l} = 206975.0 \\text{N}\\end{equation}"
      ],
      "text/plain": [
       "Equation(N_k8l, 206975.0*newton)"
      ]
     },
     "metadata": {},
     "output_type": "display_data"
    }
   ],
   "source": [
    "ggw_nk8l = Eqn(0, A_x + N_k8l + N_k5l)\n",
    "N_k8l_solve = Eqn(N_k8l,sp.solve(ggw_nk8l.rhs, N_k8l)[0])\n",
    "\n",
    "N_k8l_num = N_k8l_solve.subs(A_x_solve, N_k5l_solve).subs(A_z_solve).subs(params)\n",
    "display(ggw_nk8l, N_k8l_solve, N_k8l_num)"
   ]
  },
  {
   "cell_type": "markdown",
   "metadata": {},
   "source": [
    "Durch vertikales Gleichgewicht:"
   ]
  },
  {
   "cell_type": "code",
   "execution_count": 24,
   "metadata": {},
   "outputs": [
    {
     "data": {
      "text/latex": [
       "\\begin{equation}0 = - A_{z} + F_{1} - F_{2} + ST_{3} \\cdot 1.2 \\text{m}\\end{equation}"
      ],
      "text/plain": [
       "Equation(0, -A_z + F_1 - F_2 + ST_3*(1.2*meter))"
      ]
     },
     "metadata": {},
     "output_type": "display_data"
    },
    {
     "data": {
      "text/latex": [
       "\\begin{equation}ST_{3} = \\frac{0.83 \\left(A_{z} - F_{1} + F_{2}\\right)}{\\text{m}}\\end{equation}"
      ],
      "text/plain": [
       "Equation(ST_3, 0.83*(A_z - F_1 + F_2)/meter)"
      ]
     },
     "metadata": {},
     "output_type": "display_data"
    },
    {
     "data": {
      "text/latex": [
       "\\begin{equation}ST_{3} = \\frac{39625.0 \\text{N}}{\\text{m}}\\end{equation}"
      ],
      "text/plain": [
       "Equation(ST_3, 39625.0*newton/meter)"
      ]
     },
     "metadata": {},
     "output_type": "display_data"
    }
   ],
   "source": [
    "ggw_ST3 = Eqn(0, -A_z + F_1 + ST_3 * sp.UnevaluatedExpr(1.2*unit.m)-F_2 )\n",
    "ST3_solve = Eqn(ST_3, sp.solve(ggw_ST3.rhs, ST_3)[0])\n",
    "ST3_num = ST3_solve.subs(A_z_solve).subs(params).evalf(5)\n",
    "\n",
    "display(ggw_ST3, ST3_solve.evalf(2), ST3_num)"
   ]
  },
  {
   "cell_type": "markdown",
   "metadata": {},
   "source": [
    "#### Bereich 4\n",
    "\n",
    "Das Schnittkörperdiagramm schneidet unmittelbar links neben dem Knoten.\n",
    "\n",
    "![Schnittkörperdiagramm 4](../images/Testat_03_HS23_SKD1.svg){#fig-skd4}"
   ]
  },
  {
   "cell_type": "markdown",
   "metadata": {},
   "source": [
    "Durch Momentengleichgewicht um $k_{7}$:"
   ]
  },
  {
   "cell_type": "code",
   "execution_count": 25,
   "metadata": {},
   "outputs": [],
   "source": [
    "N_k6l, N_k7l, ST_4 = sp.symbols('N_k6l N_k7l ST_4')"
   ]
  },
  {
   "cell_type": "code",
   "execution_count": 26,
   "metadata": {},
   "outputs": [
    {
     "data": {
      "text/latex": [
       "\\begin{equation}0 = - A_{z} 10.0 \\text{m} + F_{1} \\cdot 8.5 \\text{m} - F_{2} \\cdot 7.0 \\text{m} + F_{4} \\cdot 2.6 \\text{m} - N_{k6l} 1.2 \\text{m}\\end{equation}"
      ],
      "text/plain": [
       "Equation(0, -A_z*10.0*meter + F_1*(8.5*meter) - F_2*7.0*meter + F_4*(2.6*meter\n",
       ") - N_k6l*1.2*meter)"
      ]
     },
     "metadata": {},
     "output_type": "display_data"
    },
    {
     "data": {
      "text/latex": [
       "\\begin{equation}N_{k6l} = - 8.33 A_{z} + 7.08 F_{1} - 5.83 F_{2} + 2.17 F_{4}\\end{equation}"
      ],
      "text/plain": [
       "Equation(N_k6l, -8.33*A_z + 7.08*F_1 - 5.83*F_2 + 2.17*F_4)"
      ]
     },
     "metadata": {},
     "output_type": "display_data"
    },
    {
     "data": {
      "text/latex": [
       "\\begin{equation}N_{k6l} = 0\\end{equation}"
      ],
      "text/plain": [
       "Equation(N_k6l, 0)"
      ]
     },
     "metadata": {},
     "output_type": "display_data"
    }
   ],
   "source": [
    "ggw_nk6l = Eqn(0, -N_k6l * sp.UnevaluatedExpr(1.2*unit.m) - A_z * sp.UnevaluatedExpr(3.*unit.m + 7.*unit.m)+ F_1 * sp.UnevaluatedExpr(1.5*unit.m+7.*unit.m) - F_2 * sp.UnevaluatedExpr(7.*unit.m)+F_4 * sp.UnevaluatedExpr(2.6*unit.m))\n",
    "\n",
    "N_k6l_solve = Eqn(N_k6l,sp.solve(ggw_nk6l.rhs, N_k6l)[0])\n",
    "N_k6l_num = N_k6l_solve.subs(A_z_solve).subs(params).evalf(0).applyrhs(genauigkeit)\n",
    "\n",
    "display(ggw_nk6l, N_k6l_solve.evalf(3), N_k6l_num)"
   ]
  },
  {
   "cell_type": "markdown",
   "metadata": {},
   "source": [
    "Durch horizontales Gleichgewicht:"
   ]
  },
  {
   "cell_type": "code",
   "execution_count": 27,
   "metadata": {},
   "outputs": [
    {
     "data": {
      "text/latex": [
       "\\begin{equation}0 = A_{x} + N_{k6l} + N_{k7l}\\end{equation}"
      ],
      "text/plain": [
       "Equation(0, A_x + N_k6l + N_k7l)"
      ]
     },
     "metadata": {},
     "output_type": "display_data"
    },
    {
     "data": {
      "text/latex": [
       "\\begin{equation}N_{k7l} = - A_{x} - N_{k6l}\\end{equation}"
      ],
      "text/plain": [
       "Equation(N_k7l, -A_x - N_k6l)"
      ]
     },
     "metadata": {},
     "output_type": "display_data"
    },
    {
     "data": {
      "text/latex": [
       "\\begin{equation}N_{k7l} = 50000.0 \\text{N}\\end{equation}"
      ],
      "text/plain": [
       "Equation(N_k7l, 50000.0*newton)"
      ]
     },
     "metadata": {},
     "output_type": "display_data"
    }
   ],
   "source": [
    "ggw_nk7l = Eqn(0, A_x + N_k7l + N_k6l)\n",
    "N_k7l_solve = Eqn(N_k7l,sp.solve(ggw_nk7l.rhs, N_k7l)[0])\n",
    "N_k7l_num = N_k7l_solve.subs(A_x_solve, N_k6l_solve).subs(A_z_solve).subs(params).evalf(5)\n",
    "\n",
    "\n",
    "\n",
    "display(ggw_nk7l, N_k7l_solve,N_k7l_num )"
   ]
  },
  {
   "cell_type": "markdown",
   "metadata": {},
   "source": [
    "Durch vertikales Gleichgewicht:"
   ]
  },
  {
   "cell_type": "code",
   "execution_count": 28,
   "metadata": {},
   "outputs": [
    {
     "data": {
      "text/latex": [
       "\\begin{equation}0 = - A_{z} + F_{1} - F_{2} + F_{4} + ST_{4} \\cdot 1.2 \\text{m}\\end{equation}"
      ],
      "text/plain": [
       "Equation(0, -A_z + F_1 - F_2 + F_4 + ST_4*(1.2*meter))"
      ]
     },
     "metadata": {},
     "output_type": "display_data"
    },
    {
     "data": {
      "text/latex": [
       "\\begin{equation}ST_{4} = \\frac{0.83 \\left(A_{z} - F_{1} + F_{2} - F_{4}\\right)}{\\text{m}}\\end{equation}"
      ],
      "text/plain": [
       "Equation(ST_4, 0.83*(A_z - F_1 + F_2 - F_4)/meter)"
      ]
     },
     "metadata": {},
     "output_type": "display_data"
    },
    {
     "data": {
      "text/latex": [
       "\\begin{equation}ST_{4} = - \\frac{60375.0 \\text{N}}{\\text{m}}\\end{equation}"
      ],
      "text/plain": [
       "Equation(ST_4, -60375.0*newton/meter)"
      ]
     },
     "metadata": {},
     "output_type": "display_data"
    }
   ],
   "source": [
    "ggw_ST4 = Eqn(0, -A_z + F_1 + ST_4 * sp.UnevaluatedExpr(1.2*unit.m)-F_2 + F_4)\n",
    "ST4_solve = Eqn(ST_4, sp.solve(ggw_ST4.rhs, ST_4)[0])\n",
    "ST4_num = ST4_solve.subs(A_z_solve).subs(params).evalf(5)\n",
    "display(ggw_ST4, ST4_solve.evalf(2), ST4_num)"
   ]
  },
  {
   "cell_type": "markdown",
   "metadata": {},
   "source": [
    "Der Abschliessende Verlauf lässt sich anhand der Schubflüsse bestimmen. Beginnend bei einer Puntklast kann anhand des Schubflusses diese entlang der Tafel angepasst werden. Dies resultiert zu den folgenden Zustandslinien:\n",
    "\n",
    "![Zustandslinien der Normalkräfte und der Schubflüsse](../images/Testat_03_HS23_N_S.svg){#fig-ZS_N_S}\n"
   ]
  },
  {
   "cell_type": "markdown",
   "metadata": {},
   "source": [
    "## Querschnittswerte\n",
    "\n",
    "Die Bestimmung der Querschnittswerte folgt dem Merkblatt der Vorlesung.\n",
    "Der Querschnitt in @fig-qs wird in ein Rechteck und in ein Dreieck eingeteilt.\n",
    "\n",
    "![Aufteilung des Querschnitts in Teilflächen](../images/Testat_03_HS23_QS_aufteilung.svg)"
   ]
  },
  {
   "cell_type": "code",
   "execution_count": 29,
   "metadata": {},
   "outputs": [],
   "source": [
    "b_1= sp.symbols('b_1')"
   ]
  },
  {
   "cell_type": "code",
   "execution_count": 30,
   "metadata": {},
   "outputs": [
    {
     "data": {
      "text/markdown": [
       "|   |   |\n",
       "|---|---|\n",
       "| $b = 0.8 \\text{m}$ | $b_{1} = 0.4 \\text{m}$ |\n",
       "| $h = 1.2 \\text{m}$ | |\n"
      ],
      "text/plain": [
       "<IPython.core.display.Markdown object>"
      ]
     },
     "metadata": {},
     "output_type": "display_data"
    }
   ],
   "source": [
    "params_qs = {\n",
    "    \n",
    "    b:0.8*unit.m,\n",
    "    h:1.2*unit.m,\n",
    "    b_1: 0.4*unit.m\n",
    "}\n",
    "\n",
    "render.dict_to_table(params_qs)"
   ]
  },
  {
   "cell_type": "markdown",
   "metadata": {},
   "source": [
    "### Querschnittsfläche"
   ]
  },
  {
   "cell_type": "code",
   "execution_count": 31,
   "metadata": {},
   "outputs": [
    {
     "data": {
      "text/latex": [
       "\\begin{equation}A = b h - \\frac{b_{1} h}{2}\\end{equation}"
      ],
      "text/plain": [
       "Equation(A, b*h - b_1*h/2)"
      ]
     },
     "metadata": {},
     "output_type": "display_data"
    },
    {
     "data": {
      "text/latex": [
       "\\begin{equation}A = 0.72 \\text{m}^{2}\\end{equation}"
      ],
      "text/plain": [
       "Equation(A, 0.72*meter**2)"
      ]
     },
     "metadata": {},
     "output_type": "display_data"
    }
   ],
   "source": [
    "eq_A = Eqn(A, b * h - b_1 * h / 2)\n",
    "display(eq_A, eq_A.subs(params_qs))"
   ]
  },
  {
   "cell_type": "markdown",
   "metadata": {},
   "source": [
    "### Flächenmoment 1. Grades $S_\\eta$, $S_\\zeta$"
   ]
  },
  {
   "cell_type": "code",
   "execution_count": 32,
   "metadata": {},
   "outputs": [],
   "source": [
    "S_eta, S_zeta  = sp.symbols('S_eta S_zeta')"
   ]
  },
  {
   "cell_type": "code",
   "execution_count": 33,
   "metadata": {},
   "outputs": [
    {
     "data": {
      "text/latex": [
       "\\begin{equation}S_{\\eta} = - \\frac{h}{3} \\frac{b_{1} h}{2} + \\frac{h}{2} b h\\end{equation}"
      ],
      "text/plain": [
       "Equation(S_eta, -h/3*b_1*h/2 + (h/2)*(b*h))"
      ]
     },
     "metadata": {},
     "output_type": "display_data"
    },
    {
     "data": {
      "text/latex": [
       "\\begin{equation}S_{\\eta} = 0.48 \\text{m}^{3}\\end{equation}"
      ],
      "text/plain": [
       "Equation(S_eta, 0.48*meter**3)"
      ]
     },
     "metadata": {},
     "output_type": "display_data"
    },
    {
     "data": {
      "text/latex": [
       "\\begin{equation}S_{\\zeta} = \\frac{b}{2} b h - \\frac{b_{1}}{3} \\frac{b_{1} h}{2}\\end{equation}"
      ],
      "text/plain": [
       "Equation(S_zeta, (b/2)*(b*h) - b_1/3*b_1*h/2)"
      ]
     },
     "metadata": {},
     "output_type": "display_data"
    },
    {
     "data": {
      "text/latex": [
       "\\begin{equation}S_{\\zeta} = 0.352 \\text{m}^{3}\\end{equation}"
      ],
      "text/plain": [
       "Equation(S_zeta, 0.352*meter**3)"
      ]
     },
     "metadata": {},
     "output_type": "display_data"
    }
   ],
   "source": [
    "eq_s_eta = Eqn(S_eta, sp.UnevaluatedExpr(h/2) * sp.UnevaluatedExpr(h*b) - sp.UnevaluatedExpr(h/3) * sp.UnevaluatedExpr(h*b_1 / 2))\n",
    "eq_s_zeta = Eqn(S_zeta, sp.UnevaluatedExpr(b/2) * sp.UnevaluatedExpr(h*b) - sp.UnevaluatedExpr(b_1/3) * sp.UnevaluatedExpr(h*b_1 / 2))\n",
    "\n",
    "s_eta_num = eq_s_eta.subs(params_qs).doit()\n",
    "s_zeta_num = eq_s_zeta.subs(params_qs).doit()\n",
    "display(eq_s_eta, s_eta_num, eq_s_zeta, s_zeta_num)"
   ]
  },
  {
   "cell_type": "markdown",
   "metadata": {},
   "source": [
    "### Lage des Schwerpunkts $C$ "
   ]
  },
  {
   "cell_type": "code",
   "execution_count": 34,
   "metadata": {},
   "outputs": [],
   "source": [
    "eta_C, zeta_C = sp.symbols('eta_C, zeta_C')"
   ]
  },
  {
   "cell_type": "code",
   "execution_count": 35,
   "metadata": {},
   "outputs": [
    {
     "data": {
      "text/latex": [
       "\\begin{equation}\\eta_{C} = \\frac{S_{\\zeta}}{A}\\end{equation}"
      ],
      "text/plain": [
       "Equation(eta_C, S_zeta/A)"
      ]
     },
     "metadata": {},
     "output_type": "display_data"
    },
    {
     "data": {
      "text/latex": [
       "\\begin{equation}\\eta_{C} = 0.489 \\text{m}\\end{equation}"
      ],
      "text/plain": [
       "Equation(eta_C, 0.489*meter)"
      ]
     },
     "metadata": {},
     "output_type": "display_data"
    },
    {
     "data": {
      "text/latex": [
       "\\begin{equation}\\zeta_{C} = \\frac{S_{\\eta}}{A}\\end{equation}"
      ],
      "text/plain": [
       "Equation(zeta_C, S_eta/A)"
      ]
     },
     "metadata": {},
     "output_type": "display_data"
    },
    {
     "data": {
      "text/latex": [
       "\\begin{equation}\\zeta_{C} = 0.667 \\text{m}\\end{equation}"
      ],
      "text/plain": [
       "Equation(zeta_C, 0.667*meter)"
      ]
     },
     "metadata": {},
     "output_type": "display_data"
    }
   ],
   "source": [
    "eq_eta_C = Eqn(eta_C, S_zeta / A)\n",
    "eq_zeta_C = Eqn(zeta_C, S_eta/A)\n",
    "\n",
    "eta_C_num = eq_eta_C.subs(eq_s_zeta, eq_A).subs(params_qs).doit().evalf(3)\n",
    "zeta_C_num = eq_zeta_C.subs(eq_s_eta, eq_A).subs(params_qs).doit().evalf(3)\n",
    "\n",
    "display(eq_eta_C, eta_C_num, eq_zeta_C, zeta_C_num)"
   ]
  },
  {
   "cell_type": "markdown",
   "metadata": {},
   "source": [
    "### Flächenmomente 2. Grades\n",
    "\n",
    "Diese werden anhand des, in den Schwerpunkt verschobenen, Koordinatensystems ermittelt."
   ]
  },
  {
   "cell_type": "code",
   "execution_count": 36,
   "metadata": {},
   "outputs": [],
   "source": [
    "I_eta_dot, I_zeta_dot, C_eta_zeta_dot  = sp.symbols('I_{\\eta^{\\'}} I_{\\zeta^{\\'}} C_{\\eta^{\\'}\\zeta^{\\'}}')\n"
   ]
  },
  {
   "cell_type": "code",
   "execution_count": 37,
   "metadata": {},
   "outputs": [
    {
     "data": {
      "text/latex": [
       "\\begin{equation}- 0.133333333333333 \\text{m} + \\eta_{C} = 0.355558268229167 \\text{m}\\end{equation}"
      ],
      "text/plain": [
       "Equation(-0.133333333333333*meter + eta_C, 0.355558268229167*meter)"
      ]
     },
     "execution_count": 37,
     "metadata": {},
     "output_type": "execute_result"
    }
   ],
   "source": [
    "(eta_C_num-b_1/3).subs(params_qs)"
   ]
  },
  {
   "cell_type": "code",
   "execution_count": 38,
   "metadata": {},
   "outputs": [
    {
     "data": {
      "text/latex": [
       "\\begin{equation}- 0.4 \\text{m} + \\zeta_{C} = 0.2666259765625 \\text{m}\\end{equation}"
      ],
      "text/plain": [
       "Equation(-0.4*meter + zeta_C, 0.2666259765625*meter)"
      ]
     },
     "execution_count": 38,
     "metadata": {},
     "output_type": "execute_result"
    }
   ],
   "source": [
    "(zeta_C_num-sp.Rational(1,3)*h).subs(params_qs)"
   ]
  },
  {
   "cell_type": "code",
   "execution_count": 39,
   "metadata": {},
   "outputs": [
    {
     "data": {
      "text/latex": [
       "\\begin{equation}I_{\\eta^{'}} = \\frac{b h^{3}}{12} + b h \\left(- \\frac{h}{2} + \\zeta_{C}\\right)^{2} - \\frac{b_{1} h^{3}}{36} - \\frac{b_{1} h \\left(- \\frac{h}{3} + \\zeta_{C}\\right)^{2}}{2}\\end{equation}"
      ],
      "text/plain": [
       "Equation(I_{\\eta^{'}}, b*h**3/12 + b*h*(-h/2 + zeta_C)**2 - b_1*h**3/36 - b_1*\n",
       "h*(-h/3 + zeta_C)**2/2)"
      ]
     },
     "metadata": {},
     "output_type": "display_data"
    },
    {
     "data": {
      "text/latex": [
       "\\begin{equation}I_{\\eta^{'}} = 0.0832 \\text{m}^{4}\\end{equation}"
      ],
      "text/plain": [
       "Equation(I_{\\eta^{'}}, 0.0832*meter**4)"
      ]
     },
     "metadata": {},
     "output_type": "display_data"
    },
    {
     "data": {
      "text/latex": [
       "\\begin{equation}I_{\\zeta^{'}} = \\frac{b^{3} h}{12} + b h \\left(- \\frac{b}{2} + \\eta_{C}\\right)^{2} - \\frac{b_{1}^{3} h}{36} - \\frac{b_{1} h \\left(- \\frac{b_{1}}{3} + \\eta_{C}\\right)^{2}}{2}\\end{equation}"
      ],
      "text/plain": [
       "Equation(I_{\\zeta^{'}}, b**3*h/12 + b*h*(-b/2 + eta_C)**2 - b_1**3*h/36 - b_1*\n",
       "h*(-b_1/3 + eta_C)**2/2)"
      ]
     },
     "metadata": {},
     "output_type": "display_data"
    },
    {
     "data": {
      "text/latex": [
       "\\begin{equation}I_{\\zeta^{'}} = 0.0263 \\text{m}^{4}\\end{equation}"
      ],
      "text/plain": [
       "Equation(I_{\\zeta^{'}}, 0.0263*meter**4)"
      ]
     },
     "metadata": {},
     "output_type": "display_data"
    },
    {
     "data": {
      "text/latex": [
       "\\begin{equation}C_{\\eta^{'}\\zeta^{'}} = - b h \\left(- \\frac{b}{2} + \\eta_{C}\\right) \\left(- \\frac{h}{2} + \\zeta_{C}\\right) - \\frac{b_{1}^{2} h^{2}}{72} + \\frac{b_{1} h \\left(- \\frac{b_{1}}{3} + \\eta_{C}\\right) \\left(- \\frac{h}{3} + \\zeta_{C}\\right)}{2}\\end{equation}"
      ],
      "text/plain": [
       "Equation(C_{\\eta^{'}\\zeta^{'}}, -b*h*(-b/2 + eta_C)*(-h/2 + zeta_C) - b_1**2*h\n",
       "**2/72 + b_1*h*(-b_1/3 + eta_C)*(-h/3 + zeta_C)/2)"
      ]
     },
     "metadata": {},
     "output_type": "display_data"
    },
    {
     "data": {
      "text/latex": [
       "\\begin{equation}C_{\\eta^{'}\\zeta^{'}} = 0.0139 \\text{m}^{4}\\end{equation}"
      ],
      "text/plain": [
       "Equation(C_{\\eta^{'}\\zeta^{'}}, 0.0139*meter**4)"
      ]
     },
     "metadata": {},
     "output_type": "display_data"
    }
   ],
   "source": [
    "eq_Ietadot = Eqn(I_eta_dot, (b * h**3 / 12 + (zeta_C- h/2)**2 * b * h) - (b_1 * h**3 / 36 + (zeta_C-sp.Rational(1,3)*h)**2 * b_1*h/2))\n",
    "eq_Izetadot = Eqn(I_zeta_dot, (h*b**3 / 12+(eta_C-b/2)**2 * b*h) - (h * b_1**3 / 36 + (eta_C-b_1/3)**2*b_1*h/2))\n",
    "eq_Cetazetadot = Eqn(C_eta_zeta_dot,(0 - (zeta_C-h/2)*(eta_C-b/2)*b*h)-(b_1**2 * h**2 / 72 - (zeta_C-sp.Rational(1,3)*h)*(eta_C-b_1/3)*b_1*h/2))\n",
    "\n",
    "I_eta_dot_num = eq_Ietadot.subs(eq_zeta_C).subs(eq_s_eta, eq_A).subs(params_qs).doit().evalf(3)\n",
    "I_zeta_dot_num = eq_Izetadot.subs(eq_eta_C).subs(eq_s_zeta, eq_A).subs(params_qs).doit().evalf(3)\n",
    "C_eta_zeta_dot_num = eq_Cetazetadot.subs(eq_zeta_C,eq_eta_C).subs(eq_s_eta,eq_s_zeta, eq_A).subs(params_qs).doit().evalf(3)\n",
    "\n",
    "\n",
    "display(eq_Ietadot, I_eta_dot_num, eq_Izetadot, I_zeta_dot_num, eq_Cetazetadot, C_eta_zeta_dot_num)"
   ]
  },
  {
   "cell_type": "markdown",
   "metadata": {},
   "source": [
    "### Hauptwerte der Flächenträgheitsmomente\n",
    "\n",
    "Abschliessend werden die bestimmten Flächenträgheitsmomente in die Hauptrichtungen transformiert."
   ]
  },
  {
   "cell_type": "code",
   "execution_count": 40,
   "metadata": {},
   "outputs": [],
   "source": [
    "I_y, I_z = sp.symbols('I_y, I_z')"
   ]
  },
  {
   "cell_type": "code",
   "execution_count": 41,
   "metadata": {},
   "outputs": [
    {
     "data": {
      "text/latex": [
       "\\begin{equation}\\phi = \\frac{\\operatorname{atan}{\\left(\\frac{2 C_{\\eta^{'}\\zeta^{'}}}{I_{\\eta^{'}} - I_{\\zeta^{'}}} \\right)}}{2}\\end{equation}"
      ],
      "text/plain": [
       "Equation(phi, atan(2*C_{\\eta^{'}\\zeta^{'}}/(I_{\\eta^{'}} - I_{\\zeta^{'}}))/2)"
      ]
     },
     "metadata": {},
     "output_type": "display_data"
    },
    {
     "data": {
      "text/latex": [
       "\\begin{equation}\\phi = 0.227\\end{equation}"
      ],
      "text/plain": [
       "Equation(phi, 0.227)"
      ]
     },
     "metadata": {},
     "output_type": "display_data"
    },
    {
     "data": {
      "text/latex": [
       "\\begin{equation}\\phi = 13.0 ^\\circ\\end{equation}"
      ],
      "text/plain": [
       "Equation(phi, 13.0*degree)"
      ]
     },
     "metadata": {},
     "output_type": "display_data"
    },
    {
     "data": {
      "text/latex": [
       "\\begin{equation}I_{y} = \\frac{I_{\\eta^{'}}}{2} + \\frac{I_{\\zeta^{'}}}{2} + \\sqrt{\\left(C_{\\eta^{'}\\zeta^{'}}\\right)^{2} + \\left(\\frac{I_{\\eta^{'}}}{2} - \\frac{I_{\\zeta^{'}}}{2}\\right)^{2}}\\end{equation}"
      ],
      "text/plain": [
       "Equation(I_y, I_{\\eta^{'}}/2 + I_{\\zeta^{'}}/2 + sqrt(C_{\\eta^{'}\\zeta^{'}}**2\n",
       " + (I_{\\eta^{'}}/2 - I_{\\zeta^{'}}/2)**2))"
      ]
     },
     "metadata": {},
     "output_type": "display_data"
    },
    {
     "data": {
      "text/latex": [
       "\\begin{equation}I_{y} = 0.0864 \\text{m}^{4}\\end{equation}"
      ],
      "text/plain": [
       "Equation(I_y, 0.0864*meter**4)"
      ]
     },
     "metadata": {},
     "output_type": "display_data"
    },
    {
     "data": {
      "text/latex": [
       "\\begin{equation}I_{z} = \\frac{I_{\\eta^{'}}}{2} + \\frac{I_{\\zeta^{'}}}{2} - \\sqrt{\\left(C_{\\eta^{'}\\zeta^{'}}\\right)^{2} + \\left(\\frac{I_{\\eta^{'}}}{2} - \\frac{I_{\\zeta^{'}}}{2}\\right)^{2}}\\end{equation}"
      ],
      "text/plain": [
       "Equation(I_z, I_{\\eta^{'}}/2 + I_{\\zeta^{'}}/2 - sqrt(C_{\\eta^{'}\\zeta^{'}}**2\n",
       " + (I_{\\eta^{'}}/2 - I_{\\zeta^{'}}/2)**2))"
      ]
     },
     "metadata": {},
     "output_type": "display_data"
    },
    {
     "data": {
      "text/latex": [
       "\\begin{equation}I_{z} = 0.0231 \\text{m}^{4}\\end{equation}"
      ],
      "text/plain": [
       "Equation(I_z, 0.0231*meter**4)"
      ]
     },
     "metadata": {},
     "output_type": "display_data"
    }
   ],
   "source": [
    "eq_Iy = Eqn(I_y, (I_eta_dot + I_zeta_dot) / 2 + sp.sqrt(((I_eta_dot-I_zeta_dot)/2)**2 + C_eta_zeta_dot**2))\n",
    "eq_Iz = Eqn(I_z, (I_eta_dot + I_zeta_dot) / 2 - sp.sqrt(((I_eta_dot-I_zeta_dot)/2)**2 + C_eta_zeta_dot**2))\n",
    "eq_phi = Eqn(phi, sp.atan(2 * C_eta_zeta_dot / (I_eta_dot - I_zeta_dot))/2)\n",
    "\n",
    "phi_num = eq_phi.subs(I_eta_dot_num, I_zeta_dot_num, C_eta_zeta_dot_num)\n",
    "I_y_num = eq_Iy.subs(I_eta_dot_num, I_zeta_dot_num, C_eta_zeta_dot_num)\n",
    "I_z_num = eq_Iz.subs(I_eta_dot_num, I_zeta_dot_num, C_eta_zeta_dot_num)\n",
    "\n",
    "\n",
    "def grad(expr):\n",
    "    return (expr*180/sp.pi * unit.deg).evalf(3)\n",
    "\n",
    "display(eq_phi,phi_num,phi_num.applyrhs(grad), eq_Iy,I_y_num, eq_Iz, I_z_num)"
   ]
  },
  {
   "cell_type": "markdown",
   "metadata": {},
   "source": [
    "{{< pagebreak >}}\n",
    "# Literatur {.unnumbered}\n",
    "\n",
    "::: {#refs}\n",
    ":::"
   ]
  }
 ],
 "metadata": {
  "kernelspec": {
   "display_name": "calcs",
   "language": "python",
   "name": "python3"
  },
  "language_info": {
   "codemirror_mode": {
    "name": "ipython",
    "version": 3
   },
   "file_extension": ".py",
   "mimetype": "text/x-python",
   "name": "python",
   "nbconvert_exporter": "python",
   "pygments_lexer": "ipython3",
   "version": "3.10.12"
  }
 },
 "nbformat": 4,
 "nbformat_minor": 2
}
