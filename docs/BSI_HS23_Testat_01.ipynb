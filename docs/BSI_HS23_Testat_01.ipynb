{
 "cells": [
  {
   "cell_type": "raw",
   "metadata": {},
   "source": [
    "---\n",
    "title: \"Testat_1\"\n",
    "---"
   ]
  },
  {
   "cell_type": "code",
   "execution_count": 1,
   "metadata": {},
   "outputs": [],
   "source": [
    "%run \"../src/utils/notebook_style.ipynb\""
   ]
  },
  {
   "cell_type": "markdown",
   "metadata": {},
   "source": [
    "# Testat 1 - Aufgabenstellung\n",
    "## Lagerkraft- und Schnittgrössen\n",
    "\n",
    "Gegeben ist das statische System in @fig-system. Die Einwirkungen sind auf charakteristischem Niveau [^1]. \n",
    "\n",
    "[^1]: Charakteristisch bedeutet frei von Sicherheitsbeiwerten. Für diese Testatübung ist dies nicht relevant. \n",
    "\n",
    "![Ein einfacher Balken mit Streckenlast und Punktlasten](../images/Testat_01_HS23.svg){#fig-system}\n",
    "\n",
    "Gesucht:\n",
    "\n",
    "- Zeichnen Sie ein Schnittkörperdiagramm des gesamten statischen Systems (SKD) und bestimmen Sie die Lagerkraftgrössen in $A$ und $B$.\n",
    "- Kontrollieren Sie Ihre Berechnung der Lagerkraftgrössen.\n",
    "- Bestimmen Sie die Schnittgrössen Normalkraft $N_x$, Querkraft $V_z$ und Biegemoment $M_y$ an der Stelle $x=4$ m. "
   ]
  },
  {
   "cell_type": "markdown",
   "metadata": {
    "vscode": {
     "languageId": "python"
    }
   },
   "source": [
    "{{< pagebreak >}}\n",
    "\n",
    "# Testat 1 - Musterlösung\n",
    "\n",
    "## Schnittkörperdiagramm\n",
    "\n",
    "Das Schnittkörperdiagramm für das gesamte System ist in @fig-skd gezeigt. Es sind lediglich die Auflagersymbole durch entsprechende Reaktionskräfte zu ersetzen. \n",
    "\n",
    "\n",
    "![Schnittkörperdiagramm des einfachen Balkens](../images/Testat_01_HS23_SKD.svg){#fig-skd}\n",
    "\n"
   ]
  },
  {
   "cell_type": "code",
   "execution_count": 2,
   "metadata": {},
   "outputs": [],
   "source": [
    "F_1, F_2, F_3,q_z, A_z, A_x, B_z = sp.symbols('F_1, F_2, F_3, q_z A_z, A_x, B_z')"
   ]
  },
  {
   "cell_type": "code",
   "execution_count": 3,
   "metadata": {},
   "outputs": [],
   "source": [
    "params = {\n",
    "    F_1: 15.*10**3*unit.N,\n",
    "    F_2: 62.*10**3*unit.N,\n",
    "    F_3: 50.*10**3*unit.N,\n",
    "    q_z: 23.*10**3*unit.N / unit.m    \n",
    "}\n"
   ]
  },
  {
   "cell_type": "markdown",
   "metadata": {},
   "source": [
    "\n",
    "## Auflagerkräfte\n",
    "\n",
    "Zuerst wird $B_z$ ermittelt, dies kann durch Gleichgewicht der Momente um Punkt $A$ geschehen.\n",
    "\n",
    "$$\n",
    "\\sum_A^\\curvearrowleft M_y = 0\n",
    "$${#eq-ggw_M_A}"
   ]
  },
  {
   "cell_type": "code",
   "execution_count": 4,
   "metadata": {},
   "outputs": [
    {
     "data": {
      "text/latex": [
       "\\begin{equation}0 = B_{z} 10 \\text{m} - F_{1} \\cdot 1.5 \\text{m} + F_{2} \\cdot 3 \\text{m} - q_{z} 5.2 \\text{m} 7.4 \\text{m}\\end{equation}"
      ],
      "text/plain": [
       "Equation(0, B_z*(10*meter) - F_1*1.5*meter + F_2*(3*meter) - q_z*5.2*meter*7.4\n",
       "*meter)"
      ]
     },
     "metadata": {},
     "output_type": "display_data"
    },
    {
     "data": {
      "text/latex": [
       "\\begin{equation}B_{z} = 3.848 q_{z} \\text{m} + 0.15 F_{1} - 0.3 F_{2}\\end{equation}"
      ],
      "text/plain": [
       "Equation(B_z, 3.848*meter*q_z + 0.15*F_1 - 0.3*F_2)"
      ]
     },
     "metadata": {},
     "output_type": "display_data"
    },
    {
     "data": {
      "text/latex": [
       "\\begin{equation}B_{z} = 72154.0 \\text{N}\\end{equation}"
      ],
      "text/plain": [
       "Equation(B_z, 72154.0*newton)"
      ]
     },
     "metadata": {},
     "output_type": "display_data"
    }
   ],
   "source": [
    "ggw_M_A = Eqn(0, B_z * sp.UnevaluatedExpr(10*unit.m) - q_z * sp.UnevaluatedExpr(5.2*unit.m) * sp.UnevaluatedExpr((10-5.2/2)*unit.m) + F_2 * sp.UnevaluatedExpr(3*unit.m) - F_1 * sp.UnevaluatedExpr(1.5*unit.m))\n",
    "\n",
    "B_z_solve = Eqn(B_z, sp.solve(ggw_M_A.rhs, B_z)[0])\n",
    "\n",
    "\n",
    "display(ggw_M_A, B_z_solve, B_z_solve.subs(params))\n"
   ]
  },
  {
   "cell_type": "markdown",
   "metadata": {},
   "source": [
    "Anhand des Momentengleichgewichts um Punkt $B$ kann $A_z$ ermittelt werden.\n",
    "$$\n",
    "\\sum_B^\\curvearrowleft M_y = 0\n",
    "$${#eq-ggw_M_B}"
   ]
  },
  {
   "cell_type": "code",
   "execution_count": 5,
   "metadata": {},
   "outputs": [
    {
     "data": {
      "text/latex": [
       "\\begin{equation}0 = - A_{z} 10 \\text{m} + F_{1} \\cdot 8.5 \\text{m} - F_{2} \\cdot 7 \\text{m} + q_{z} 5.2 \\text{m} 2.6 \\text{m}\\end{equation}"
      ],
      "text/plain": [
       "Equation(0, -A_z*10*meter + F_1*(8.5*meter) - F_2*7*meter + q_z*(5.2*meter)*(2\n",
       ".6*meter))"
      ]
     },
     "metadata": {},
     "output_type": "display_data"
    },
    {
     "data": {
      "text/latex": [
       "\\begin{equation}A_{z} = 1.352 q_{z} \\text{m} + 0.85 F_{1} - 0.7 F_{2}\\end{equation}"
      ],
      "text/plain": [
       "Equation(A_z, 1.352*meter*q_z + 0.85*F_1 - 0.7*F_2)"
      ]
     },
     "metadata": {},
     "output_type": "display_data"
    },
    {
     "data": {
      "text/latex": [
       "\\begin{equation}A_{z} = 446.0 \\text{N}\\end{equation}"
      ],
      "text/plain": [
       "Equation(A_z, 446.0*newton)"
      ]
     },
     "metadata": {},
     "output_type": "display_data"
    }
   ],
   "source": [
    "ggw_M_B = Eqn(0, -A_z * sp.UnevaluatedExpr(10*unit.m) + F_1 * sp.UnevaluatedExpr(8.5*unit.m) - F_2 * sp.UnevaluatedExpr(7*unit.m) + q_z * sp.UnevaluatedExpr(5.2*unit.m) * sp.UnevaluatedExpr(2.6 *unit.m))\n",
    "\n",
    "A_z_solve = Eqn(A_z,sp.solve(ggw_M_B.rhs, A_z)[0])\n",
    "\n",
    "display(ggw_M_B, A_z_solve, A_z_solve.subs(params).evalf(3))"
   ]
  },
  {
   "cell_type": "markdown",
   "metadata": {},
   "source": [
    "Die horizontale Auflagerreaktion $A_x$ kann durch Gleichgewicht der horizontalen Kräfte ermittelt werden:\n",
    "\n",
    "$$\n",
    "\\sum^\\rightarrow F_x = 0\n",
    "$${#eq-sum_fx}"
   ]
  },
  {
   "cell_type": "code",
   "execution_count": 6,
   "metadata": {},
   "outputs": [
    {
     "data": {
      "text/latex": [
       "\\begin{equation}0 = A_{x} + F_{3}\\end{equation}"
      ],
      "text/plain": [
       "Equation(0, A_x + F_3)"
      ]
     },
     "metadata": {},
     "output_type": "display_data"
    },
    {
     "data": {
      "text/latex": [
       "\\begin{equation}A_{x} = - F_{3}\\end{equation}"
      ],
      "text/plain": [
       "Equation(A_x, -F_3)"
      ]
     },
     "metadata": {},
     "output_type": "display_data"
    },
    {
     "data": {
      "text/latex": [
       "\\begin{equation}A_{x} = - 50000.0 \\text{N}\\end{equation}"
      ],
      "text/plain": [
       "Equation(A_x, -50000.0*newton)"
      ]
     },
     "metadata": {},
     "output_type": "display_data"
    }
   ],
   "source": [
    "ggw_F_x = Eqn(0, F_3 + A_x)\n",
    "\n",
    "A_x_solve = Eqn(A_x,sp.solve(ggw_F_x.rhs, A_x)[0])\n",
    "\n",
    "display(ggw_F_x, A_x_solve, A_x_solve.subs(params))"
   ]
  },
  {
   "cell_type": "markdown",
   "metadata": {},
   "source": [
    "## Kontrolle der Lagerkraftgrössen\n",
    "\n",
    "Da beide Auflagerkräfte in $z$-Richtung mittels eines Momentengleichgewichts bestimmt worden sind, bleibt die Summe aller Kräfte in $z$-Richtung zur Kontrolle der Grössen.\n",
    "\n",
    "$$\n",
    "\\sum^\\uparrow F_z = 0\n",
    "$${#eq-ggw_fz}"
   ]
  },
  {
   "cell_type": "code",
   "execution_count": 7,
   "metadata": {},
   "outputs": [
    {
     "data": {
      "text/latex": [
       "\\begin{equation}0 = 5.2 q_{z} \\text{m} - A_{z} - B_{z} + F_{1} - F_{2}\\end{equation}"
      ],
      "text/plain": [
       "Equation(0, 5.2*meter*q_z - A_z - B_z + F_1 - F_2)"
      ]
     },
     "metadata": {},
     "output_type": "display_data"
    },
    {
     "data": {
      "text/latex": [
       "\\begin{equation}0 = 72600.0 \\text{N} - A_{z} - B_{z}\\end{equation}"
      ],
      "text/plain": [
       "Equation(0, 72600.0*newton - A_z - B_z)"
      ]
     },
     "metadata": {},
     "output_type": "display_data"
    },
    {
     "data": {
      "text/latex": [
       "\\begin{equation}0 = 0\\end{equation}"
      ],
      "text/plain": [
       "Equation(0, 0)"
      ]
     },
     "metadata": {},
     "output_type": "display_data"
    }
   ],
   "source": [
    "ggw_F_z = Eqn(0, -A_z - B_z + F_1 - F_2 + q_z * (5.2*unit.m))\n",
    "\n",
    "def genauigkeit(expr):\n",
    "    if expr <=0.01:\n",
    "        return 0\n",
    "    \n",
    "\n",
    "display(ggw_F_z, ggw_F_z.subs(params), ggw_F_z.subs(A_z_solve).subs(B_z_solve).subs(params).apply(genauigkeit))"
   ]
  },
  {
   "cell_type": "markdown",
   "metadata": {},
   "source": [
    "Es zeigt sich, dass die Gleichgewichtsbedingung auch in $z$-Richtung eingehalten ist."
   ]
  },
  {
   "cell_type": "markdown",
   "metadata": {},
   "source": [
    "## Schnittkräfte \n",
    "\n",
    "Die Schnittkräfte lassen sich anhand eines SKDs bestimmen. Dabei ist das System an der gewünschten Stelle zu schneiden. Am Schnittufer sind die Schnittkräfte einzuführen. Dabei ist die Vorzeichenkonvention zu beachten, welche sich anhand des Schnittufers (positv / negativ) unterscheidet. Die Wahl des Schnittufers ist nicht relevant, da sich die Schnittkräfte an diesem Punkt im Gleichgewicht befinden, sind die Resultate identisch. \n",
    "\n",
    "![Schnittkörperdiagramm an der Stelle $x=4$m mit positivem Schnittufer](../images/Testat_01_HS23_SKD_1.svg){#fig-skd_4_pos}\n",
    "\n",
    "\n",
    "![Schnittkörperdiagramm an der Stelle $x=4$m mit negativem Schnittufer](../images/Testat_01_HS23_SKD_2.svg){#fig-skd_4_neg}\n",
    "\n",
    "Die @fig-skd_4_pos und @fig-skd_4_neg zeigen ein negatives und positives Schnittufer für die gleiche Stelle im System.\n",
    "Zur Ermittlung der Schnittkräfte gilt es nun die Gleichgewichtsbedingungen anzuwenden."
   ]
  },
  {
   "cell_type": "code",
   "execution_count": 8,
   "metadata": {},
   "outputs": [],
   "source": [
    "V_z = sp.Function('V_z')(4*unit.m)\n",
    "M_y = sp.Function('M_y')(4*unit.m)\n",
    "N_x = sp.Function('N_x')(4*unit.m)"
   ]
  },
  {
   "cell_type": "markdown",
   "metadata": {},
   "source": [
    "Für das System in @fig-skd_4_pos, die Bestimmung der Querkraft:\n",
    "\n",
    "$$\n",
    "\\sum_{x=4m}^\\uparrow F_z = 0\n",
    "$${#eq-ggw_fz2}"
   ]
  },
  {
   "cell_type": "code",
   "execution_count": 9,
   "metadata": {},
   "outputs": [
    {
     "data": {
      "text/latex": [
       "\\begin{equation}0 = A_{z} - F_{1} + F_{2} - V_{z}{\\left(4 \\text{m} \\right)}\\end{equation}"
      ],
      "text/plain": [
       "Equation(0, A_z - F_1 + F_2 - V_z(4*meter))"
      ]
     },
     "metadata": {},
     "output_type": "display_data"
    },
    {
     "data": {
      "text/latex": [
       "\\begin{equation}V_{z}{\\left(4 \\text{m} \\right)} = A_{z} - F_{1} + F_{2}\\end{equation}"
      ],
      "text/plain": [
       "Equation(V_z(4*meter), A_z - F_1 + F_2)"
      ]
     },
     "metadata": {},
     "output_type": "display_data"
    },
    {
     "data": {
      "text/latex": [
       "\\begin{equation}V_{z}{\\left(4 \\text{m} \\right)} = 47446.0 \\text{N}\\end{equation}"
      ],
      "text/plain": [
       "Equation(V_z(4*meter), 47446.0*newton)"
      ]
     },
     "metadata": {},
     "output_type": "display_data"
    }
   ],
   "source": [
    "ggw_skd_pos = Eqn(0,-V_z -F_1+F_2 + A_z)\n",
    "V_z_solve = Eqn(V_z, sp.solve(ggw_skd_pos.rhs, V_z)[0])\n",
    "display(ggw_skd_pos, V_z_solve, V_z_solve.subs(A_z_solve).subs(params))"
   ]
  },
  {
   "cell_type": "markdown",
   "metadata": {},
   "source": [
    "Die Bestimmung der Normalkraft:\n",
    "\n",
    "$$\n",
    "\\sum_{x=4m}^\\rightarrow F_x = 0\n",
    "$${#eq-sum_fx2}"
   ]
  },
  {
   "cell_type": "code",
   "execution_count": 10,
   "metadata": {},
   "outputs": [
    {
     "data": {
      "text/latex": [
       "\\begin{equation}0 = A_{x} + N_{x}{\\left(4 \\text{m} \\right)}\\end{equation}"
      ],
      "text/plain": [
       "Equation(0, A_x + N_x(4*meter))"
      ]
     },
     "metadata": {},
     "output_type": "display_data"
    },
    {
     "data": {
      "text/latex": [
       "\\begin{equation}N_{x}{\\left(4 \\text{m} \\right)} = - A_{x}\\end{equation}"
      ],
      "text/plain": [
       "Equation(N_x(4*meter), -A_x)"
      ]
     },
     "metadata": {},
     "output_type": "display_data"
    },
    {
     "data": {
      "text/latex": [
       "\\begin{equation}N_{x}{\\left(4 \\text{m} \\right)} = 50000.0 \\text{N}\\end{equation}"
      ],
      "text/plain": [
       "Equation(N_x(4*meter), 50000.0*newton)"
      ]
     },
     "metadata": {},
     "output_type": "display_data"
    }
   ],
   "source": [
    "ggw_skd_pos_x = Eqn(0, A_x + N_x)\n",
    "\n",
    "N_x_solve = Eqn(N_x,sp.solve(ggw_skd_pos_x.rhs, N_x)[0])\n",
    "\n",
    "display(ggw_skd_pos_x, N_x_solve, N_x_solve.subs(A_x_solve).subs(params))"
   ]
  },
  {
   "cell_type": "markdown",
   "metadata": {},
   "source": [
    "Letztlich die Bestimmung des Biegemoments:\n",
    "\n",
    "$$\n",
    "\\sum_{x=4m}^\\curvearrowleft M_y = 0\n",
    "$${#eq-ggw_M_B_4m}"
   ]
  },
  {
   "cell_type": "code",
   "execution_count": 11,
   "metadata": {},
   "outputs": [
    {
     "data": {
      "text/latex": [
       "\\begin{equation}0 = - A_{z} 4.0 \\text{m} + F_{1} \\cdot 2.5 \\text{m} - F_{2} \\cdot 1.0 \\text{m} + M_{y}{\\left(4 \\text{m} \\right)}\\end{equation}"
      ],
      "text/plain": [
       "Equation(0, -A_z*4.0*meter + F_1*(2.5*meter) - F_2*1.0*meter + M_y(4*meter))"
      ]
     },
     "metadata": {},
     "output_type": "display_data"
    },
    {
     "data": {
      "text/latex": [
       "\\begin{equation}M_{y}{\\left(4 \\text{m} \\right)} = 0.5 \\cdot \\left(8.0 A_{z} - 5.0 F_{1} + 2.0 F_{2}\\right) \\text{m}\\end{equation}"
      ],
      "text/plain": [
       "Equation(M_y(4*meter), 0.5*meter*(8.0*A_z - 5.0*F_1 + 2.0*F_2))"
      ]
     },
     "metadata": {},
     "output_type": "display_data"
    },
    {
     "data": {
      "text/latex": [
       "\\begin{equation}M_{y}{\\left(4 \\text{m} \\right)} = 26284.0 \\text{m} \\text{N}\\end{equation}"
      ],
      "text/plain": [
       "Equation(M_y(4*meter), 26284.0*meter*newton)"
      ]
     },
     "metadata": {},
     "output_type": "display_data"
    }
   ],
   "source": [
    "ggw_skd_pos_m = Eqn(0,M_y - F_2 * sp.UnevaluatedExpr(1.0*unit.m) + F_1 * sp.UnevaluatedExpr(2.5*unit.m) - A_z * sp.UnevaluatedExpr(4.*unit.m))\n",
    "M_y_solve = Eqn(M_y,sp.solve(ggw_skd_pos_m.rhs, M_y)[0])\n",
    "\n",
    "display(ggw_skd_pos_m, M_y_solve, M_y_solve.subs(A_z_solve).subs(params))"
   ]
  }
 ],
 "metadata": {
  "kernelspec": {
   "display_name": "calcs",
   "language": "python",
   "name": "python3"
  },
  "language_info": {
   "codemirror_mode": {
    "name": "ipython",
    "version": 3
   },
   "file_extension": ".py",
   "mimetype": "text/x-python",
   "name": "python",
   "nbconvert_exporter": "python",
   "pygments_lexer": "ipython3",
   "version": "3.10.12"
  }
 },
 "nbformat": 4,
 "nbformat_minor": 2
}
