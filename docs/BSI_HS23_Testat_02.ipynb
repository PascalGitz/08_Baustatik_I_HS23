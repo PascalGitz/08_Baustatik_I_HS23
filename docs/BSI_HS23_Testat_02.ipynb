{
 "cells": [
  {
   "cell_type": "raw",
   "metadata": {},
   "source": [
    "---\n",
    "title: \"Testat_2\"\n",
    "---"
   ]
  },
  {
   "cell_type": "code",
   "execution_count": 1,
   "metadata": {},
   "outputs": [],
   "source": [
    "%run \"../src/utils/notebook_style.ipynb\""
   ]
  },
  {
   "cell_type": "markdown",
   "metadata": {},
   "source": [
    "# Testat 2 - Aufgabenstellung\n",
    "## Lagerkraftgrössen und Zustandslinien der Schnittgrössen\n",
    "\n",
    "Gegeben ist das statische System in @fig-system. Die Einwirkungen sind auf charakteristischem Niveau [^1]. \n",
    "\n",
    "[^1]: Charakteristisch bedeutet frei von Sicherheitsbeiwerten. Für diese Testatübung ist dies nicht relevant. \n",
    "\n",
    "![Geneigter Balken mit Streckenlast und Punktlasten](../images/Testat_02_HS23.svg){#fig-system}\n",
    "\n",
    "Gesucht:\n",
    "\n",
    "- Zeichnen Sie ein Schnittkörperdiagramm des gesamten statischen Systems (SKD) und bestimmen Sie die Lagerkraftgrössen in $A$ und $B$\n",
    "- Kontrollieren Sie Ihre Berechnung der Lagerkraftgrössen\n",
    "- Bestimmen Sie die Zustandslinien der Schnittgrössen Normalkraft $N_x$, Querkraft $V_z$ und Biegemoment $M_y$. Kennzeichnen Sie die Verläufe (linear, quadratisch)."
   ]
  },
  {
   "cell_type": "markdown",
   "metadata": {},
   "source": [
    "{{< pagebreak >}}\n",
    "\n",
    "# Testat 2 - Musterlösung\n",
    "\n",
    "## Schnittkörperdiagramm\n",
    "\n",
    "Das Schnittkörperdiagramm für das gesamte System ist in @fig-skd gezeigt. Es sind lediglich die Auflagersymbole durch entsprechende Reaktionskräfte zu ersetzen. \n",
    "\n",
    "\n",
    "![Schnittkörperdiagramm des einfachen Balkens](../images/Testat_02_HS23_SKD.svg){#fig-skd}\n"
   ]
  },
  {
   "cell_type": "code",
   "execution_count": 2,
   "metadata": {},
   "outputs": [],
   "source": [
    "F_1, F_2, F_3,q_z, A_z, A_x, B_z = sp.symbols('F_1, F_2, F_3, q_z A_z, A_x, B_z')"
   ]
  },
  {
   "cell_type": "code",
   "execution_count": 3,
   "metadata": {},
   "outputs": [],
   "source": [
    "params = {\n",
    "    F_1: 17.*10**3*unit.N,\n",
    "    F_2: 35.*10**3*unit.N,\n",
    "    F_3: 50.*10**3*unit.N,\n",
    "    q_z: 14.*10**3*unit.N / unit.m    \n",
    "}\n"
   ]
  },
  {
   "cell_type": "markdown",
   "metadata": {},
   "source": [
    "\n",
    "## Auflagerkräfte\n",
    "\n",
    "Zuerst wird $B_z$ ermittelt, dies kann durch Gleichgewicht der Momente um Punkt $A$ geschehen.\n",
    "\n",
    "$$\n",
    "\\sum_A^\\curvearrowleft M_y = 0\n",
    "$${#eq-ggw_M_A}"
   ]
  },
  {
   "cell_type": "code",
   "execution_count": 4,
   "metadata": {},
   "outputs": [
    {
     "data": {
      "text/latex": [
       "\\begin{equation}0 = B_{z} 10 \\text{m} + F_{1} \\cdot 1.8 \\text{m} - F_{2} \\cdot 3.8 \\text{m} + F_{3} \\cdot 3 \\text{m} - q_{z} 3.0 \\sqrt{2} \\text{m} 8.5 \\text{m}\\end{equation}"
      ],
      "text/plain": [
       "Equation(0, B_z*(10*meter) + F_1*(1.8*meter) - F_2*3.8*meter + F_3*(3*meter) -\n",
       " q_z*3.0*sqrt(2)*meter*8.5*meter)"
      ]
     },
     "metadata": {},
     "output_type": "display_data"
    },
    {
     "data": {
      "text/latex": [
       "\\begin{equation}B_{z} = 3.61 q_{z} \\text{m} - 0.18 F_{1} + 0.38 F_{2} - 0.3 F_{3}\\end{equation}"
      ],
      "text/plain": [
       "Equation(B_z, 3.61*meter*q_z - 0.18*F_1 + 0.38*F_2 - 0.3*F_3)"
      ]
     },
     "metadata": {},
     "output_type": "display_data"
    },
    {
     "data": {
      "text/latex": [
       "\\begin{equation}B_{z} = 45727.0 \\text{N}\\end{equation}"
      ],
      "text/plain": [
       "Equation(B_z, 45727.0*newton)"
      ]
     },
     "metadata": {},
     "output_type": "display_data"
    }
   ],
   "source": [
    "ggw_M_A = Eqn(0, B_z * sp.UnevaluatedExpr(10*unit.m) - q_z * sp.UnevaluatedExpr(3.*unit.m*sp.sqrt(2)) * sp.UnevaluatedExpr(8.5*unit.m) - F_2 * sp.UnevaluatedExpr(3.8*unit.m) + F_1 * sp.UnevaluatedExpr(1.8*unit.m)+ F_3 * sp.UnevaluatedExpr(3*unit.m))\n",
    "\n",
    "B_z_solve = Eqn(B_z, sp.solve(ggw_M_A.rhs, B_z)[0])\n",
    "\n",
    "\n",
    "display(ggw_M_A, B_z_solve.evalf(3), B_z_solve.subs(params).evalf(5))\n"
   ]
  },
  {
   "cell_type": "markdown",
   "metadata": {},
   "source": [
    "Die horizontale Auflagerreaktion $A_x$ kann durch Gleichgewicht der horizontalen Kräfte ermittelt werden:\n",
    "\n",
    "$$\n",
    "\\sum^\\rightarrow F_x = 0\n",
    "$${#eq-sum_fx}"
   ]
  },
  {
   "cell_type": "code",
   "execution_count": 5,
   "metadata": {},
   "outputs": [
    {
     "data": {
      "text/latex": [
       "\\begin{equation}0 = A_{x} + F_{3}\\end{equation}"
      ],
      "text/plain": [
       "Equation(0, A_x + F_3)"
      ]
     },
     "metadata": {},
     "output_type": "display_data"
    },
    {
     "data": {
      "text/latex": [
       "\\begin{equation}A_{x} = - F_{3}\\end{equation}"
      ],
      "text/plain": [
       "Equation(A_x, -F_3)"
      ]
     },
     "metadata": {},
     "output_type": "display_data"
    },
    {
     "data": {
      "text/latex": [
       "\\begin{equation}A_{x} = - 50000.0 \\text{N}\\end{equation}"
      ],
      "text/plain": [
       "Equation(A_x, -50000.0*newton)"
      ]
     },
     "metadata": {},
     "output_type": "display_data"
    }
   ],
   "source": [
    "ggw_F_x = Eqn(0, F_3 + A_x)\n",
    "\n",
    "A_x_solve = Eqn(A_x,sp.solve(ggw_F_x.rhs, A_x)[0])\n",
    "\n",
    "display(ggw_F_x, A_x_solve, A_x_solve.subs(params))"
   ]
  },
  {
   "cell_type": "markdown",
   "metadata": {},
   "source": [
    "Anhand des Momentengleichgewichts um Punkt $B$ kann $A_z$ ermittelt werden. Da die beiden Auflager nicht auf einer Ebene liegen, fliesst $A_x$ in das Momentengleichgewicht ein. Deshalb wurde diese Reaktionskraft zuerst bestimmt.\n",
    "\n",
    "$$\n",
    "\\sum_B^\\curvearrowleft M_y = 0\n",
    "$${#eq-ggw_M_B}"
   ]
  },
  {
   "cell_type": "code",
   "execution_count": 6,
   "metadata": {},
   "outputs": [
    {
     "data": {
      "text/latex": [
       "\\begin{equation}0 = - A_{x} 3 \\text{m} - A_{z} 10 \\text{m} - F_{1} \\cdot 8.2 \\text{m} + F_{2} \\cdot 6.2 \\text{m} + q_{z} 3 \\sqrt{2} \\text{m} 1.5 \\text{m}\\end{equation}"
      ],
      "text/plain": [
       "Equation(0, -A_x*3*meter - A_z*10*meter - F_1*8.2*meter + F_2*(6.2*meter) + q_\n",
       "z*(3*sqrt(2)*meter)*(1.5*meter))"
      ]
     },
     "metadata": {},
     "output_type": "display_data"
    },
    {
     "data": {
      "text/latex": [
       "\\begin{equation}A_{z} = 0.636 q_{z} \\text{m} - 0.3 A_{x} - 0.82 F_{1} + 0.62 F_{2}\\end{equation}"
      ],
      "text/plain": [
       "Equation(A_z, 0.636*meter*q_z - 0.3*A_x - 0.82*F_1 + 0.62*F_2)"
      ]
     },
     "metadata": {},
     "output_type": "display_data"
    },
    {
     "data": {
      "text/latex": [
       "\\begin{equation}A_{z} = 31670.0 \\text{N}\\end{equation}"
      ],
      "text/plain": [
       "Equation(A_z, 31670.0*newton)"
      ]
     },
     "metadata": {},
     "output_type": "display_data"
    }
   ],
   "source": [
    "ggw_M_B = Eqn(0, -A_z * sp.UnevaluatedExpr(10*unit.m) - F_1 * sp.UnevaluatedExpr(8.2*unit.m) + F_2 * sp.UnevaluatedExpr(6.2*unit.m) + q_z * sp.UnevaluatedExpr(3*unit.m*sp.sqrt(2)) * sp.UnevaluatedExpr(1.5 *unit.m)-A_x * sp.UnevaluatedExpr(3*unit.m))\n",
    "\n",
    "A_z_solve = Eqn(A_z,sp.solve(ggw_M_B.rhs, A_z)[0])\n",
    "\n",
    "display(ggw_M_B, A_z_solve.evalf(3), A_z_solve.subs(A_x_solve).subs(params).evalf(5))"
   ]
  },
  {
   "cell_type": "markdown",
   "metadata": {},
   "source": [
    "## Kontrolle der Lagerkraftgrössen\n",
    "\n",
    "Da beide Auflagerkräfte in $z$-Richtung mittels eines Momentengleichgewichts bestimmt worden sind, bleibt die Summe aller Kräfte in $z$-Richtung zur Kontrolle der Grössen.\n",
    "\n",
    "$$\n",
    "\\sum^\\uparrow F_z = 0\n",
    "$${#eq-ggw_fz}"
   ]
  },
  {
   "cell_type": "code",
   "execution_count": 7,
   "metadata": {},
   "outputs": [
    {
     "data": {
      "text/latex": [
       "\\begin{equation}0 = 3 \\sqrt{2} q_{z} \\text{m} - A_{z} - B_{z} - F_{1} + F_{2}\\end{equation}"
      ],
      "text/plain": [
       "Equation(0, 3*sqrt(2)*meter*q_z - A_z - B_z - F_1 + F_2)"
      ]
     },
     "metadata": {},
     "output_type": "display_data"
    },
    {
     "data": {
      "text/latex": [
       "\\begin{equation}0 = 18000.0 \\text{N} + 42000.0 \\sqrt{2} \\text{N} - A_{z} - B_{z}\\end{equation}"
      ],
      "text/plain": [
       "Equation(0, 18000.0*newton + 42000.0*sqrt(2)*newton - A_z - B_z)"
      ]
     },
     "metadata": {},
     "output_type": "display_data"
    },
    {
     "data": {
      "text/latex": [
       "\\begin{equation}0 = 0\\end{equation}"
      ],
      "text/plain": [
       "Equation(0, 0)"
      ]
     },
     "metadata": {},
     "output_type": "display_data"
    }
   ],
   "source": [
    "ggw_F_z = Eqn(0, -A_z - B_z - F_1 + F_2 + q_z * (3*sp.sqrt(2)*unit.m))\n",
    "\n",
    "display(ggw_F_z, ggw_F_z.subs(params), ggw_F_z.subs(A_z_solve.subs(A_x_solve)).subs(B_z_solve).subs(params).evalf(3))"
   ]
  },
  {
   "cell_type": "markdown",
   "metadata": {},
   "source": [
    "Es zeigt sich, dass die Gleichgewichtsbedingung auch in $z$-Richtung eingehalten ist."
   ]
  },
  {
   "cell_type": "markdown",
   "metadata": {},
   "source": [
    "## Zustandslinien der Schnittgrössen\n",
    "\n",
    "Grundsätzlich sind die Zustandslinien der Schnittgrössen, die punktuell bestimmten Schnittgrössen für jeden Punkt auf dem Stab. Folglich müsste man an jedem infinitesimal kleinen Punkt ein SKD zeichnen und die Grössen bestimmen. Dies ist jedoch nicht handhabbar. Folglich werden aussagekräftige Punkte gewählt, Schnittgrössen bestimmt und der Funktionsverlauf dazwischen wird händisch nachgetragen.\n",
    "\n"
   ]
  },
  {
   "cell_type": "markdown",
   "metadata": {},
   "source": [
    "### Zustandslinie der Querkräfte\n",
    "Es ist praktisch mit der Querkraftsbestimmung am Stabende zu beginnen. Dadurch können die Kräfte entsprechend der Richtung angesetzt werden und die Vorzeichen des Querkraftverlaus sind korrekt.\n",
    "\n",
    "Die geneigte Stabgeometrie erweist sich als weitere Hürde. Die Querkraft wirkt orthogonal auf die Stabachse, folglich sind die Einwirkungen und die Lagerkräfte in die Stabrichtung zu transformieren. In @fig-winkel ist die Transformation dargestellt.\n",
    "\n",
    "![Transformation der Kraft in Achsrichtung auf geneigte Stabachse](../images/Testat_02_HS23_Winkel.svg){#fig-winkel}\n",
    "\n",
    "Dabei ist $\\alpha$ die Neigung des Stabs."
   ]
  },
  {
   "cell_type": "code",
   "execution_count": 8,
   "metadata": {},
   "outputs": [],
   "source": [
    "V_z = sp.Function('V_z')\n",
    "M_y = sp.Function('M_y')\n",
    "N_x = sp.Function('N_x')"
   ]
  },
  {
   "cell_type": "code",
   "execution_count": 9,
   "metadata": {},
   "outputs": [
    {
     "data": {
      "text/latex": [
       "\\begin{equation}\\alpha = \\frac{\\pi}{4}\\end{equation}"
      ],
      "text/plain": [
       "Equation(alpha, pi/4)"
      ]
     },
     "metadata": {},
     "output_type": "display_data"
    },
    {
     "data": {
      "text/latex": [
       "\\begin{equation}\\frac{180 \\alpha ^\\circ}{\\pi} = 45 ^\\circ\\end{equation}"
      ],
      "text/plain": [
       "Equation(180*degree*alpha/pi, 45*degree)"
      ]
     },
     "metadata": {},
     "output_type": "display_data"
    }
   ],
   "source": [
    "eq_alpha = Eqn(alpha, sp.atan(((3*unit.m)/ (3 *unit.m))))\n",
    "display(eq_alpha, sp.deg(eq_alpha*unit.deg))\n"
   ]
  },
  {
   "cell_type": "markdown",
   "metadata": {},
   "source": [
    "Am Auflagerpunkt $B$ entspricht die Querkraft (Das negative Vorzeichen entspricht der negativen Stabseite, da dies durch die Richtung von $B_z$ vorgegeben ist):"
   ]
  },
  {
   "cell_type": "code",
   "execution_count": 10,
   "metadata": {},
   "outputs": [
    {
     "data": {
      "text/latex": [
       "\\begin{equation}V_{z}{\\left(B \\right)} = - B_{z} \\cos{\\left(\\alpha \\right)} - F_{3} \\cos{\\left(\\alpha \\right)}\\end{equation}"
      ],
      "text/plain": [
       "Equation(V_z(B), -B_z*cos(alpha) - F_3*cos(alpha))"
      ]
     },
     "metadata": {},
     "output_type": "display_data"
    },
    {
     "data": {
      "text/latex": [
       "\\begin{equation}V_{z}{\\left(B \\right)} = - 67690.0 \\text{N}\\end{equation}"
      ],
      "text/plain": [
       "Equation(V_z(B), -67690.0*newton)"
      ]
     },
     "metadata": {},
     "output_type": "display_data"
    }
   ],
   "source": [
    "ggw_v_z_B = Eqn(V_z(B), -B_z * sp.cos(alpha) - F_3 * sp.cos(alpha))\n",
    "\n",
    "display(ggw_v_z_B, ggw_v_z_B.subs(B_z_solve).subs(eq_alpha).subs(params).evalf(5))"
   ]
  },
  {
   "cell_type": "markdown",
   "metadata": {},
   "source": [
    "Anschliessend nimmt die Querkraft durch die Streckenlast $q_z$ ab. Auch diese gilt es in Stabrichtung zu transformieren."
   ]
  },
  {
   "cell_type": "code",
   "execution_count": 11,
   "metadata": {},
   "outputs": [
    {
     "data": {
      "text/latex": [
       "\\begin{equation}V_{z}{\\left(7.0 \\text{m} \\right)} = q_{z} \\cos{\\left(\\alpha \\right)} 3.0 \\sqrt{2} \\text{m} + V_{z}{\\left(B \\right)}\\end{equation}"
      ],
      "text/plain": [
       "Equation(V_z(7.0*meter), q_z*cos(alpha)*(3.0*sqrt(2)*meter) + V_z(B))"
      ]
     },
     "metadata": {},
     "output_type": "display_data"
    },
    {
     "data": {
      "text/latex": [
       "\\begin{equation}V_{z}{\\left(7.0 \\text{m} \\right)} = - 25690.0 \\text{N}\\end{equation}"
      ],
      "text/plain": [
       "Equation(V_z(7.0*meter), -25690.0*newton)"
      ]
     },
     "metadata": {},
     "output_type": "display_data"
    }
   ],
   "source": [
    "ggw_v_z_3_neg = Eqn(V_z(7.*unit.m), V_z(B)+ q_z*sp.UnevaluatedExpr(3.*sp.sqrt(2)*unit.m) * sp.cos(alpha))\n",
    "\n",
    "display(ggw_v_z_3_neg, ggw_v_z_3_neg.subs(ggw_v_z_B).subs(B_z_solve).subs(eq_alpha).subs(params).doit().evalf(5))"
   ]
  },
  {
   "cell_type": "markdown",
   "metadata": {},
   "source": [
    "Im geraden Bereich werden die Kräfte anhand des Gleichgewichts in $z$-Richtung ermittelt.\n",
    "\n",
    "\n",
    "$$\n",
    "\\sum^\\uparrow F_z = 0\n",
    "$${#eq-ggw_fz_skd}"
   ]
  },
  {
   "cell_type": "markdown",
   "metadata": {},
   "source": [
    "Für das SKD in @fig-skd_3:\n",
    "\n",
    "\n",
    "\n",
    "\n",
    "\n",
    "\n",
    "![Schnittkörperdiagramm 3 an am Stabknick mit positivem Schnittufer](../images/Testat_02_HS23_SKD_3.svg){#fig-skd_3}"
   ]
  },
  {
   "cell_type": "code",
   "execution_count": 12,
   "metadata": {},
   "outputs": [
    {
     "data": {
      "text/latex": [
       "\\begin{equation}0 = A_{z} + F_{1} - F_{2} - V_{z}{\\left(7.0 \\text{m} \\right)}\\end{equation}"
      ],
      "text/plain": [
       "Equation(0, A_z + F_1 - F_2 - V_z(7.0*meter))"
      ]
     },
     "metadata": {},
     "output_type": "display_data"
    },
    {
     "data": {
      "text/latex": [
       "\\begin{equation}V_{z}{\\left(7.0 \\text{m} \\right)} = A_{z} + F_{1} - F_{2}\\end{equation}"
      ],
      "text/plain": [
       "Equation(V_z(7.0*meter), A_z + F_1 - F_2)"
      ]
     },
     "metadata": {},
     "output_type": "display_data"
    },
    {
     "data": {
      "text/latex": [
       "\\begin{equation}V_{z}{\\left(7.0 \\text{m} \\right)} = 13670.0 \\text{N}\\end{equation}"
      ],
      "text/plain": [
       "Equation(V_z(7.0*meter), 13670.0*newton)"
      ]
     },
     "metadata": {},
     "output_type": "display_data"
    }
   ],
   "source": [
    "ggw_v_z_3 = Eqn(0,-V_z(7.*unit.m) + A_z+F_1-F_2)\n",
    "\n",
    "v_z_3_solve = Eqn(V_z(7.*unit.m), sp.solve(ggw_v_z_3.rhs, V_z(7.*unit.m))[0])\n",
    "\n",
    "\n",
    "display(ggw_v_z_3, v_z_3_solve,v_z_3_solve.subs(A_z_solve).subs(A_x_solve).subs(params).evalf(5))"
   ]
  },
  {
   "cell_type": "markdown",
   "metadata": {},
   "source": [
    "Für das SKD in @fig-skd_2:\n",
    "\n",
    "![Schnittkörperdiagramm 2 an der Stelle $F_2$ mit positivem Schnittufer](../images/Testat_02_HS23_SKD_2.svg){#fig-skd_2}\n",
    "\n"
   ]
  },
  {
   "cell_type": "code",
   "execution_count": 13,
   "metadata": {},
   "outputs": [
    {
     "data": {
      "text/latex": [
       "\\begin{equation}0 = A_{z} + F_{1} - V_{z}{\\left(3.8 \\text{m} \\right)}\\end{equation}"
      ],
      "text/plain": [
       "Equation(0, A_z + F_1 - V_z(3.8*meter))"
      ]
     },
     "metadata": {},
     "output_type": "display_data"
    },
    {
     "data": {
      "text/latex": [
       "\\begin{equation}V_{z}{\\left(3.8 \\text{m} \\right)} = A_{z} + F_{1}\\end{equation}"
      ],
      "text/plain": [
       "Equation(V_z(3.8*meter), A_z + F_1)"
      ]
     },
     "metadata": {},
     "output_type": "display_data"
    },
    {
     "data": {
      "text/latex": [
       "\\begin{equation}V_{z}{\\left(3.8 \\text{m} \\right)} = 48670.0 \\text{N}\\end{equation}"
      ],
      "text/plain": [
       "Equation(V_z(3.8*meter), 48670.0*newton)"
      ]
     },
     "metadata": {},
     "output_type": "display_data"
    }
   ],
   "source": [
    "ggw_v_z_2 = Eqn(0,-V_z(3.8*unit.m) + A_z+F_1)\n",
    "\n",
    "v_z_2_solve = Eqn(V_z(3.8*unit.m), sp.solve(ggw_v_z_2.rhs, V_z(3.8*unit.m))[0])\n",
    "\n",
    "\n",
    "display(ggw_v_z_2, v_z_2_solve,v_z_2_solve.subs(A_z_solve).subs(A_x_solve).subs(params).evalf(5))"
   ]
  },
  {
   "cell_type": "markdown",
   "metadata": {},
   "source": [
    "Für das SKD in @fig-skd_1:\n",
    "\n",
    "\n",
    "![Schnittkörperdiagramm 1 an der Stelle $F_1$ mit positivem Schnittufer](../images/Testat_02_HS23_SKD_1.svg){#fig-skd_1}"
   ]
  },
  {
   "cell_type": "code",
   "execution_count": 14,
   "metadata": {},
   "outputs": [
    {
     "data": {
      "text/latex": [
       "\\begin{equation}0 = A_{z} - V_{z}{\\left(1.8 \\text{m} \\right)}\\end{equation}"
      ],
      "text/plain": [
       "Equation(0, A_z - V_z(1.8*meter))"
      ]
     },
     "metadata": {},
     "output_type": "display_data"
    },
    {
     "data": {
      "text/latex": [
       "\\begin{equation}V_{z}{\\left(1.8 \\text{m} \\right)} = A_{z}\\end{equation}"
      ],
      "text/plain": [
       "Equation(V_z(1.8*meter), A_z)"
      ]
     },
     "metadata": {},
     "output_type": "display_data"
    },
    {
     "data": {
      "text/latex": [
       "\\begin{equation}V_{z}{\\left(1.8 \\text{m} \\right)} = 31670.0 \\text{N}\\end{equation}"
      ],
      "text/plain": [
       "Equation(V_z(1.8*meter), 31670.0*newton)"
      ]
     },
     "metadata": {},
     "output_type": "display_data"
    }
   ],
   "source": [
    "ggw_v_z_1 = Eqn(0,-V_z(1.8*unit.m) + A_z)\n",
    "\n",
    "v_z_1_solve = Eqn(V_z(1.8*unit.m), sp.solve(ggw_v_z_1.rhs, V_z(1.8*unit.m))[0])\n",
    "\n",
    "\n",
    "display(ggw_v_z_1, v_z_1_solve,v_z_1_solve.subs(A_z_solve).subs(A_x_solve).subs(params).evalf(5) )"
   ]
  },
  {
   "cell_type": "markdown",
   "metadata": {},
   "source": [
    "![Zustandslinien der Querkräfte](../images/Testat_02_HS23_Vz.svg){#fig-vz}\n",
    "\n",
    "\n",
    "##### Diskussion\n",
    "\n",
    "Wieso ist die Querkraft im Eckpunkt für den geraden Stab nicht identisch der Querkraft für den geneigten Stab?\n",
    "\n",
    "Die Normalkraft des geneigten Stabs hat einen Einfluss auf die Querkraft des geraden Stabs. Dies gilt ebenso für den Einfluss der Querkraft auf die Normalkraft."
   ]
  },
  {
   "cell_type": "markdown",
   "metadata": {},
   "source": [
    "### Zustandslinien der Biegemomente\n",
    "\n",
    "Die Zustandslinien der Biegemomente können anhand der bereits verwendeten Schnittkörperdiagramme durch Gleichgewicht ermittelt werden.\n",
    "\n",
    "$$\n",
    "\\sum^\\curvearrowleft M_y = 0\n",
    "$${#eq-ggw_M_skd}\n",
    "\n",
    "Für das SKD in @fig-skd_1:"
   ]
  },
  {
   "cell_type": "code",
   "execution_count": 15,
   "metadata": {},
   "outputs": [
    {
     "data": {
      "text/latex": [
       "\\begin{equation}0 = - A_{z} 1.8 \\text{m} + M_{y}{\\left(1.8 \\text{m} \\right)}\\end{equation}"
      ],
      "text/plain": [
       "Equation(0, -A_z*1.8*meter + M_y(1.8*meter))"
      ]
     },
     "metadata": {},
     "output_type": "display_data"
    },
    {
     "data": {
      "text/latex": [
       "\\begin{equation}M_{y}{\\left(1.8 \\text{m} \\right)} = 1.8 A_{z} \\text{m}\\end{equation}"
      ],
      "text/plain": [
       "Equation(M_y(1.8*meter), 1.8*meter*A_z)"
      ]
     },
     "metadata": {},
     "output_type": "display_data"
    },
    {
     "data": {
      "text/latex": [
       "\\begin{equation}M_{y}{\\left(1.8 \\text{m} \\right)} = 57005.0 \\text{m} \\text{N}\\end{equation}"
      ],
      "text/plain": [
       "Equation(M_y(1.8*meter), 57005.0*meter*newton)"
      ]
     },
     "metadata": {},
     "output_type": "display_data"
    }
   ],
   "source": [
    "ggw_M_y_1 = Eqn(0, -A_z * sp.UnevaluatedExpr(1.8*unit.m) + M_y(1.8*unit.m))\n",
    "M_y_1_solve = Eqn(M_y(1.8*unit.m), sp.solve(ggw_M_y_1.rhs, M_y(1.8*unit.m))[0])\n",
    "\n",
    "display(ggw_M_y_1, M_y_1_solve, M_y_1_solve.subs(A_z_solve).subs(A_x_solve).subs(params).evalf(5))"
   ]
  },
  {
   "cell_type": "markdown",
   "metadata": {},
   "source": [
    "Für das SKD in @fig-skd_2:"
   ]
  },
  {
   "cell_type": "code",
   "execution_count": 16,
   "metadata": {},
   "outputs": [
    {
     "data": {
      "text/latex": [
       "\\begin{equation}0 = - A_{z} 3.8 \\text{m} - F_{1} \\cdot 2.0 \\text{m} + M_{y}{\\left(3.8 \\text{m} \\right)}\\end{equation}"
      ],
      "text/plain": [
       "Equation(0, -A_z*3.8*meter - F_1*2.0*meter + M_y(3.8*meter))"
      ]
     },
     "metadata": {},
     "output_type": "display_data"
    },
    {
     "data": {
      "text/latex": [
       "\\begin{equation}M_{y}{\\left(3.8 \\text{m} \\right)} = 154344.0 \\text{m} \\text{N}\\end{equation}"
      ],
      "text/plain": [
       "Equation(M_y(3.8*meter), 154344.0*meter*newton)"
      ]
     },
     "metadata": {},
     "output_type": "display_data"
    }
   ],
   "source": [
    "ggw_M_y_2 = Eqn(0, -A_z * sp.UnevaluatedExpr(3.8*unit.m) - F_1 * sp.UnevaluatedExpr(2.*unit.m)+ M_y(3.8*unit.m))\n",
    "\n",
    "M_y_2_solve = Eqn(M_y(3.8*unit.m), sp.solve(ggw_M_y_2.rhs, M_y(3.8*unit.m))[0])\n",
    "\n",
    "display(ggw_M_y_2, M_y_2_solve.subs(A_z_solve).subs(A_x_solve).subs(params).evalf(6))"
   ]
  },
  {
   "cell_type": "markdown",
   "metadata": {},
   "source": [
    "Für das SKD in @fig-skd_3:"
   ]
  },
  {
   "cell_type": "code",
   "execution_count": 17,
   "metadata": {},
   "outputs": [
    {
     "data": {
      "text/latex": [
       "\\begin{equation}0 = - A_{z} 7.0 \\text{m} - F_{1} \\cdot 5.2 \\text{m} + F_{2} \\cdot 3.2 \\text{m} + M_{y}{\\left(7.0 \\text{m} \\right)}\\end{equation}"
      ],
      "text/plain": [
       "Equation(0, -A_z*7.0*meter - F_1*5.2*meter + F_2*(3.2*meter) + M_y(7.0*meter))"
      ]
     },
     "metadata": {},
     "output_type": "display_data"
    },
    {
     "data": {
      "text/latex": [
       "\\begin{equation}M_{y}{\\left(7.0 \\text{m} \\right)} = 198087.0 \\text{m} \\text{N}\\end{equation}"
      ],
      "text/plain": [
       "Equation(M_y(7.0*meter), 198087.0*meter*newton)"
      ]
     },
     "metadata": {},
     "output_type": "display_data"
    }
   ],
   "source": [
    "ggw_M_y_3 = Eqn(0, F_2 *sp.UnevaluatedExpr(3.2*unit.m) -A_z * sp.UnevaluatedExpr(7.*unit.m) - F_1 * sp.UnevaluatedExpr(5.2*unit.m)+ M_y(7.*unit.m))\n",
    "\n",
    "M_y_3_solve = Eqn(M_y(7.*unit.m), sp.solve(ggw_M_y_3.rhs, M_y(7.*unit.m))[0])\n",
    "\n",
    "display(ggw_M_y_3, M_y_3_solve.subs(A_z_solve).subs(A_x_solve).subs(params).evalf(6))"
   ]
  },
  {
   "cell_type": "markdown",
   "metadata": {},
   "source": [
    "Für das Biegemoment gilt, im Eckpunkt ist dies für den geraden Stab, sowie für den geneigten Stab identisch. Dazu ist bekannt, dass beim Auflager $B$ kein Biegemoment auftreten kann. Folglich kann vom Biegemoment, ermittelt in @fig-skd_3, mit einem proportional quadratischen Verlauf das Auflager verbunden werden.\n",
    "\n",
    "\n",
    "![Zustandslinien der Biegemomente](../images/Testat_02_HS23_My.svg){#fig-my}\n",
    "\n"
   ]
  },
  {
   "cell_type": "markdown",
   "metadata": {},
   "source": [
    "### Zustandslinien der Normalkräfte\n",
    "\n",
    "Die Zustandslinien der Normalkräfte ergeben sich im geraden Stab durch die Auflagerkraft $A_x$ und im geneigten Stab durch $F_3$, $q_z$ und $B_z$ transformiert in Richtung der Stabachse."
   ]
  },
  {
   "cell_type": "markdown",
   "metadata": {},
   "source": [
    "Für den geraden Stab:"
   ]
  },
  {
   "cell_type": "code",
   "execution_count": 18,
   "metadata": {},
   "outputs": [
    {
     "data": {
      "text/latex": [
       "\\begin{equation}0 = A_{x} + N_{x}{\\left(5 \\text{m} \\right)}\\end{equation}"
      ],
      "text/plain": [
       "Equation(0, A_x + N_x(5*meter))"
      ]
     },
     "metadata": {},
     "output_type": "display_data"
    },
    {
     "data": {
      "text/latex": [
       "\\begin{equation}N_{x}{\\left(5 \\text{m} \\right)} = - A_{x}\\end{equation}"
      ],
      "text/plain": [
       "Equation(N_x(5*meter), -A_x)"
      ]
     },
     "metadata": {},
     "output_type": "display_data"
    },
    {
     "data": {
      "text/latex": [
       "\\begin{equation}N_{x}{\\left(5 \\text{m} \\right)} = 50000.0 \\text{N}\\end{equation}"
      ],
      "text/plain": [
       "Equation(N_x(5*meter), 50000.0*newton)"
      ]
     },
     "metadata": {},
     "output_type": "display_data"
    }
   ],
   "source": [
    "ggw_N_x_1 = Eqn(0, A_x + N_x(5*unit.m))\n",
    "N_x_1_solve = Eqn(N_x(5*unit.m),sp.solve(ggw_N_x_1.rhs, N_x(5*unit.m))[0])\n",
    "display(ggw_N_x_1, N_x_1_solve, N_x_1_solve.subs(A_x_solve).subs(params))"
   ]
  },
  {
   "cell_type": "markdown",
   "metadata": {},
   "source": [
    "Am Auflagerpunkt $B$:\n",
    "\n",
    "![Schnittkörperdiagramm 4 an der Stelle $B$ mit negativem Schnittufer](../images/Testat_02_HS23_SKD_4.svg){#fig-skd_4}\n"
   ]
  },
  {
   "cell_type": "code",
   "execution_count": 19,
   "metadata": {},
   "outputs": [
    {
     "data": {
      "text/latex": [
       "\\begin{equation}0 = - B_{z} \\sin{\\left(\\alpha \\right)} + F_{3} \\sin{\\left(\\alpha \\right)} - N_{x}{\\left(B \\right)}\\end{equation}"
      ],
      "text/plain": [
       "Equation(0, -B_z*sin(alpha) + F_3*sin(alpha) - N_x(B))"
      ]
     },
     "metadata": {},
     "output_type": "display_data"
    },
    {
     "data": {
      "text/latex": [
       "\\begin{equation}N_{x}{\\left(B \\right)} = \\left(- B_{z} + F_{3}\\right) \\sin{\\left(\\alpha \\right)}\\end{equation}"
      ],
      "text/plain": [
       "Equation(N_x(B), (-B_z + F_3)*sin(alpha))"
      ]
     },
     "metadata": {},
     "output_type": "display_data"
    },
    {
     "data": {
      "text/latex": [
       "\\begin{equation}N_{x}{\\left(B \\right)} = 3021.2 \\text{N}\\end{equation}"
      ],
      "text/plain": [
       "Equation(N_x(B), 3021.2*newton)"
      ]
     },
     "metadata": {},
     "output_type": "display_data"
    }
   ],
   "source": [
    "ggw_N_x_2 = Eqn(0, -B_z*sp.sin(alpha) - N_x(B) +F_3 * sp.sin(alpha))\n",
    "N_x_2_solve = Eqn(N_x(B),sp.solve(ggw_N_x_2.rhs, N_x(B))[0])\n",
    "display(ggw_N_x_2, N_x_2_solve, N_x_2_solve.subs(B_z_solve).subs(eq_alpha).subs(params).evalf(5))"
   ]
  },
  {
   "cell_type": "markdown",
   "metadata": {},
   "source": [
    "Nach der bestimmten Normalkraft in $B$ kann anhand der Streckenlast diese bis zum Eckpunkt *aufgebaut* werden:\n",
    "\n",
    "![Schnittkörperdiagramm 5 für den geneigten Stab](../images/Testat_02_HS23_SKD_5.svg){#fig-skd5}"
   ]
  },
  {
   "cell_type": "code",
   "execution_count": 20,
   "metadata": {},
   "outputs": [
    {
     "data": {
      "text/latex": [
       "\\begin{equation}N_{x}{\\left(7.0 \\text{m} \\right)} = q_{z} \\sin{\\left(\\alpha \\right)} 3 \\sqrt{2} \\text{m} + N_{x}{\\left(B \\right)}\\end{equation}"
      ],
      "text/plain": [
       "Equation(N_x(7.0*meter), q_z*sin(alpha)*(3*sqrt(2)*meter) + N_x(B))"
      ]
     },
     "metadata": {},
     "output_type": "display_data"
    },
    {
     "data": {
      "text/latex": [
       "\\begin{equation}N_{x}{\\left(7.0 \\text{m} \\right)} = 45021.0 \\text{N}\\end{equation}"
      ],
      "text/plain": [
       "Equation(N_x(7.0*meter), 45021.0*newton)"
      ]
     },
     "metadata": {},
     "output_type": "display_data"
    }
   ],
   "source": [
    "ggw_N_x_3 = Eqn(N_x(7.*unit.m), N_x(B)+q_z*sp.UnevaluatedExpr(3*sp.sqrt(2)*unit.m)*sp.sin(alpha))\n",
    "\n",
    "display(ggw_N_x_3, ggw_N_x_3.subs(N_x_2_solve).subs(B_z_solve).subs(eq_alpha).subs(params).doit().evalf(5))"
   ]
  },
  {
   "cell_type": "markdown",
   "metadata": {},
   "source": [
    "![Zustandslinien der Normalkräfte](../images/Testat_02_HS23_Nx.svg)"
   ]
  }
 ],
 "metadata": {
  "kernelspec": {
   "display_name": "calcs",
   "language": "python",
   "name": "python3"
  },
  "language_info": {
   "codemirror_mode": {
    "name": "ipython",
    "version": 3
   },
   "file_extension": ".py",
   "mimetype": "text/x-python",
   "name": "python",
   "nbconvert_exporter": "python",
   "pygments_lexer": "ipython3",
   "version": "3.10.12"
  }
 },
 "nbformat": 4,
 "nbformat_minor": 2
}
